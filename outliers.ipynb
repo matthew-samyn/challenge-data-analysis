{
 "cells": [
  {
   "cell_type": "code",
   "execution_count": 2,
   "id": "0add4e17",
   "metadata": {},
   "outputs": [],
   "source": [
    "import pandas as pd\n",
    "import matplotlib.pyplot as plt\n",
    "%matplotlib inline\n",
    "import numpy as np\n",
    "import seaborn as sns\n",
    "from scipy import stats"
   ]
  },
  {
   "cell_type": "code",
   "execution_count": 3,
   "id": "612c5fb3",
   "metadata": {},
   "outputs": [],
   "source": [
    "house_data = pd.read_csv('house_data_ultimate_cleaned', sep=',', index_col='Unnamed: 0')\n",
    "df = house_data.copy()"
   ]
  },
  {
   "cell_type": "code",
   "execution_count": 4,
   "id": "d4a310d8",
   "metadata": {},
   "outputs": [
    {
     "data": {
      "text/html": [
       "<div>\n",
       "<style scoped>\n",
       "    .dataframe tbody tr th:only-of-type {\n",
       "        vertical-align: middle;\n",
       "    }\n",
       "\n",
       "    .dataframe tbody tr th {\n",
       "        vertical-align: top;\n",
       "    }\n",
       "\n",
       "    .dataframe thead th {\n",
       "        text-align: right;\n",
       "    }\n",
       "</style>\n",
       "<table border=\"1\" class=\"dataframe\">\n",
       "  <thead>\n",
       "    <tr style=\"text-align: right;\">\n",
       "      <th></th>\n",
       "      <th>Area</th>\n",
       "      <th>Price</th>\n",
       "      <th>State_of_building</th>\n",
       "      <th>Facades</th>\n",
       "      <th>Bedrooms</th>\n",
       "      <th>Kitchen</th>\n",
       "      <th>Furnished</th>\n",
       "      <th>Open_fire</th>\n",
       "      <th>Zip_code</th>\n",
       "      <th>Land_surface</th>\n",
       "      <th>Terrace</th>\n",
       "      <th>Terrace_surface</th>\n",
       "      <th>Swimming_pool</th>\n",
       "      <th>Subtype_property</th>\n",
       "      <th>Garden</th>\n",
       "      <th>Garden_surface</th>\n",
       "      <th>Regions</th>\n",
       "      <th>Price_per_square_meter</th>\n",
       "    </tr>\n",
       "  </thead>\n",
       "  <tbody>\n",
       "    <tr>\n",
       "      <th>0</th>\n",
       "      <td>123.0</td>\n",
       "      <td>200000</td>\n",
       "      <td>Good</td>\n",
       "      <td>3.0</td>\n",
       "      <td>2.0</td>\n",
       "      <td>Installed</td>\n",
       "      <td>No</td>\n",
       "      <td>No</td>\n",
       "      <td>3294</td>\n",
       "      <td>429.0</td>\n",
       "      <td>No</td>\n",
       "      <td>0</td>\n",
       "      <td>No</td>\n",
       "      <td>house</td>\n",
       "      <td>Yes</td>\n",
       "      <td>350</td>\n",
       "      <td>Flanders</td>\n",
       "      <td>1626.02</td>\n",
       "    </tr>\n",
       "    <tr>\n",
       "      <th>1</th>\n",
       "      <td>255.0</td>\n",
       "      <td>698000</td>\n",
       "      <td>Just renovated</td>\n",
       "      <td>4.0</td>\n",
       "      <td>4.0</td>\n",
       "      <td>Installed</td>\n",
       "      <td>No</td>\n",
       "      <td>No</td>\n",
       "      <td>2070</td>\n",
       "      <td>1210.0</td>\n",
       "      <td>No</td>\n",
       "      <td>0</td>\n",
       "      <td>No</td>\n",
       "      <td>villa</td>\n",
       "      <td>No</td>\n",
       "      <td>0</td>\n",
       "      <td>Flanders</td>\n",
       "      <td>2737.25</td>\n",
       "    </tr>\n",
       "    <tr>\n",
       "      <th>2</th>\n",
       "      <td>234.0</td>\n",
       "      <td>499000</td>\n",
       "      <td>As new</td>\n",
       "      <td>NaN</td>\n",
       "      <td>5.0</td>\n",
       "      <td>NaN</td>\n",
       "      <td>No</td>\n",
       "      <td>No</td>\n",
       "      <td>8800</td>\n",
       "      <td>744.0</td>\n",
       "      <td>No</td>\n",
       "      <td>0</td>\n",
       "      <td>No</td>\n",
       "      <td>villa</td>\n",
       "      <td>No</td>\n",
       "      <td>0</td>\n",
       "      <td>Flanders</td>\n",
       "      <td>2132.48</td>\n",
       "    </tr>\n",
       "    <tr>\n",
       "      <th>3</th>\n",
       "      <td>219.0</td>\n",
       "      <td>717000</td>\n",
       "      <td>As new</td>\n",
       "      <td>NaN</td>\n",
       "      <td>4.0</td>\n",
       "      <td>NaN</td>\n",
       "      <td>No</td>\n",
       "      <td>No</td>\n",
       "      <td>8000</td>\n",
       "      <td>760.0</td>\n",
       "      <td>No</td>\n",
       "      <td>0</td>\n",
       "      <td>No</td>\n",
       "      <td>house</td>\n",
       "      <td>No</td>\n",
       "      <td>0</td>\n",
       "      <td>Flanders</td>\n",
       "      <td>3273.97</td>\n",
       "    </tr>\n",
       "    <tr>\n",
       "      <th>4</th>\n",
       "      <td>156.0</td>\n",
       "      <td>429000</td>\n",
       "      <td>Good</td>\n",
       "      <td>4.0</td>\n",
       "      <td>4.0</td>\n",
       "      <td>Installed</td>\n",
       "      <td>No</td>\n",
       "      <td>No</td>\n",
       "      <td>8800</td>\n",
       "      <td>419.0</td>\n",
       "      <td>No</td>\n",
       "      <td>0</td>\n",
       "      <td>No</td>\n",
       "      <td>villa</td>\n",
       "      <td>Yes</td>\n",
       "      <td>90</td>\n",
       "      <td>Flanders</td>\n",
       "      <td>2750.00</td>\n",
       "    </tr>\n",
       "  </tbody>\n",
       "</table>\n",
       "</div>"
      ],
      "text/plain": [
       "    Area   Price State_of_building  Facades  Bedrooms    Kitchen Furnished  \\\n",
       "0  123.0  200000              Good      3.0       2.0  Installed        No   \n",
       "1  255.0  698000    Just renovated      4.0       4.0  Installed        No   \n",
       "2  234.0  499000            As new      NaN       5.0        NaN        No   \n",
       "3  219.0  717000            As new      NaN       4.0        NaN        No   \n",
       "4  156.0  429000              Good      4.0       4.0  Installed        No   \n",
       "\n",
       "  Open_fire  Zip_code  Land_surface Terrace  Terrace_surface Swimming_pool  \\\n",
       "0        No      3294         429.0      No                0            No   \n",
       "1        No      2070        1210.0      No                0            No   \n",
       "2        No      8800         744.0      No                0            No   \n",
       "3        No      8000         760.0      No                0            No   \n",
       "4        No      8800         419.0      No                0            No   \n",
       "\n",
       "  Subtype_property Garden  Garden_surface   Regions  Price_per_square_meter  \n",
       "0            house    Yes             350  Flanders                 1626.02  \n",
       "1            villa     No               0  Flanders                 2737.25  \n",
       "2            villa     No               0  Flanders                 2132.48  \n",
       "3            house     No               0  Flanders                 3273.97  \n",
       "4            villa    Yes              90  Flanders                 2750.00  "
      ]
     },
     "execution_count": 4,
     "metadata": {},
     "output_type": "execute_result"
    }
   ],
   "source": [
    "df.head()"
   ]
  },
  {
   "cell_type": "code",
   "execution_count": 5,
   "id": "89e74f9f",
   "metadata": {
    "scrolled": true
   },
   "outputs": [
    {
     "data": {
      "text/plain": [
       "Area                         0\n",
       "Price                        0\n",
       "State_of_building         2138\n",
       "Facades                   1684\n",
       "Bedrooms                    64\n",
       "Kitchen                   2412\n",
       "Furnished                    0\n",
       "Open_fire                    0\n",
       "Zip_code                     0\n",
       "Land_surface                 0\n",
       "Terrace                      0\n",
       "Terrace_surface              0\n",
       "Swimming_pool                0\n",
       "Subtype_property             0\n",
       "Garden                       0\n",
       "Garden_surface               0\n",
       "Regions                      0\n",
       "Price_per_square_meter       0\n",
       "dtype: int64"
      ]
     },
     "execution_count": 5,
     "metadata": {},
     "output_type": "execute_result"
    }
   ],
   "source": [
    "df.isnull().sum()"
   ]
  },
  {
   "cell_type": "code",
   "execution_count": 6,
   "id": "7009d118",
   "metadata": {},
   "outputs": [
    {
     "name": "stdout",
     "output_type": "stream",
     "text": [
      "<class 'pandas.core.frame.DataFrame'>\n",
      "Int64Index: 8333 entries, 0 to 8332\n",
      "Data columns (total 18 columns):\n",
      " #   Column                  Non-Null Count  Dtype  \n",
      "---  ------                  --------------  -----  \n",
      " 0   Area                    8333 non-null   float64\n",
      " 1   Price                   8333 non-null   int64  \n",
      " 2   State_of_building       6195 non-null   object \n",
      " 3   Facades                 6649 non-null   float64\n",
      " 4   Bedrooms                8269 non-null   float64\n",
      " 5   Kitchen                 5921 non-null   object \n",
      " 6   Furnished               8333 non-null   object \n",
      " 7   Open_fire               8333 non-null   object \n",
      " 8   Zip_code                8333 non-null   int64  \n",
      " 9   Land_surface            8333 non-null   float64\n",
      " 10  Terrace                 8333 non-null   object \n",
      " 11  Terrace_surface         8333 non-null   int64  \n",
      " 12  Swimming_pool           8333 non-null   object \n",
      " 13  Subtype_property        8333 non-null   object \n",
      " 14  Garden                  8333 non-null   object \n",
      " 15  Garden_surface          8333 non-null   int64  \n",
      " 16  Regions                 8333 non-null   object \n",
      " 17  Price_per_square_meter  8333 non-null   float64\n",
      "dtypes: float64(5), int64(4), object(9)\n",
      "memory usage: 1.2+ MB\n"
     ]
    }
   ],
   "source": [
    "df.info()"
   ]
  },
  {
   "cell_type": "code",
   "execution_count": 7,
   "id": "d2f50b0c",
   "metadata": {},
   "outputs": [
    {
     "data": {
      "text/plain": [
       "(array([0, 1, 2, 3, 4, 5, 6, 7, 8]),\n",
       " [Text(0, 0, 'Area'),\n",
       "  Text(1, 0, 'Price'),\n",
       "  Text(2, 0, 'Facades'),\n",
       "  Text(3, 0, 'Bedrooms'),\n",
       "  Text(4, 0, 'Zip_code'),\n",
       "  Text(5, 0, 'Land_surface'),\n",
       "  Text(6, 0, 'Terrace_surface'),\n",
       "  Text(7, 0, 'Garden_surface'),\n",
       "  Text(8, 0, 'Price_per_square_meter')])"
      ]
     },
     "execution_count": 7,
     "metadata": {},
     "output_type": "execute_result"
    },
    {
     "data": {
      "image/png": "[encoded data removed]",
      "text/plain": [
       "<Figure size 864x432 with 1 Axes>"
      ]
     },
     "metadata": {
      "needs_background": "light"
     },
     "output_type": "display_data"
    }
   ],
   "source": [
    "# Set figure size with matplotlib\n",
    "plt.figure(figsize=(12,6))\n",
    "\n",
    "# Boxplot\n",
    "sns.boxplot(data=df)\n",
    "plt.xticks(rotation=45)"
   ]
  },
  {
   "cell_type": "code",
   "execution_count": 8,
   "id": "2aa6dead",
   "metadata": {},
   "outputs": [
    {
     "data": {
      "text/plain": [
       "(array([-2000000.,        0.,  2000000.,  4000000.,  6000000.,  8000000.,\n",
       "        10000000.]),\n",
       " [Text(0, 0, ''),\n",
       "  Text(0, 0, ''),\n",
       "  Text(0, 0, ''),\n",
       "  Text(0, 0, ''),\n",
       "  Text(0, 0, ''),\n",
       "  Text(0, 0, ''),\n",
       "  Text(0, 0, '')])"
      ]
     },
     "execution_count": 8,
     "metadata": {},
     "output_type": "execute_result"
    },
    {
     "data": {
      "image/png": "[encoded data removed]",
      "text/plain": [
       "<Figure size 864x432 with 1 Axes>"
      ]
     },
     "metadata": {
      "needs_background": "light"
     },
     "output_type": "display_data"
    }
   ],
   "source": [
    "# Set figure size with matplotlib\n",
    "plt.figure(figsize=(12,6))\n",
    "\n",
    "# Boxplot for price only\n",
    "sns.boxplot(x=df['Price'])\n",
    "plt.xticks(rotation=45)"
   ]
  },
  {
   "cell_type": "code",
   "execution_count": 9,
   "id": "e7b20aae",
   "metadata": {},
   "outputs": [
    {
     "data": {
      "text/plain": [
       "count    8.333000e+03\n",
       "mean     5.167265e+05\n",
       "std      6.241331e+05\n",
       "min      2.500000e+03\n",
       "25%      2.499900e+05\n",
       "50%      3.400000e+05\n",
       "75%      5.150000e+05\n",
       "max      9.500000e+06\n",
       "Name: Price, dtype: float64"
      ]
     },
     "execution_count": 9,
     "metadata": {},
     "output_type": "execute_result"
    }
   ],
   "source": [
    "df.Price.describe()"
   ]
  },
  {
   "cell_type": "code",
   "execution_count": 13,
   "id": "336d1857",
   "metadata": {},
   "outputs": [
    {
     "name": "stdout",
     "output_type": "stream",
     "text": [
      "[5100000, 2450000, 2950000, 2750000, 2999000, 4950000, 4500000, 2550000, 3200000, 2800000, 2600000, 2890000, 5250000, 2750000, 2495000, 2500000, 2550000, 2985000, 3200000, 2950000, 5900000, 2890000, 3850000, 4950000, 3450000, 2550000, 2650000, 2999999, 2400000, 2690000, 2850000, 2450000, 2450000, 3600000, 2999000, 3950000, 2450000, 9500000, 2750000, 2600000, 2550000, 3850000, 2450000, 2495000, 3500000, 4150000, 2950000, 3000000, 5200000, 5200000, 3350000, 3200000, 3995000, 2600000, 3850000, 2999000, 3250000, 2990000, 2999999, 3800000, 5850000, 3250000, 3000000, 2900000, 4650000, 4950000, 2495000, 2750000, 2495000, 2490000, 2985000, 2690000, 2750000, 2600000, 2750000, 2575000, 2500000, 2999000, 2685000, 2600000, 3350000, 2875000, 2990000, 2450000, 3700000, 2750000, 3495000, 9500000, 3800000, 2990000, 3350000, 4950000, 2750000, 5950000, 4050000, 4950000, 3900000, 3850000, 2990000, 2490000, 2690000, 4250000, 2950000, 2950000, 3800000, 2800000, 3000000, 4750000, 3350000, 4950000, 3200000, 3250000, 2750000, 4500000, 3000000, 4950000, 2480000, 3500000, 2990000, 2450000, 2800000, 2500000, 5950000, 3850000, 3850000, 3250000, 4500000, 4000000, 3250000, 5900000, 2750000, 2800000, 2500000, 4150000, 2495000, 3500000, 2595000, 5850000, 2950000, 2580000, 2495000, 2690000, 2575000, 5500000, 3495000, 5200000, 2495000, 2690000, 2950000, 2950000, 4500000, 2480000, 2450000, 2399000, 2450000, 3800000, 5950000, 2495000, 2800000, 3290000, 4150000, 3500000, 2520000, 2850000, 3950000, 2600000, 3400000, 6500000, 2450000, 3500000, 2999000, 2790000, 2990000, 3900000, 5950000, 4950000, 5200000, 2800000, 2490000, 4950000, 2950000, 6900000, 5500000, 2690000, 4150000, 2950000, 2895000, 3300000, 2495000, 2495000, 2399000, 4000000, 3200000, 2600000, 4050000, 5950000, 3200000, 2500000, 2800000, 3300000, 3395000, 2750000, 5250000, 2800000, 4500000, 2400000, 3900000, 3800000, 2495000, 4950000, 9500000, 2895000, 2860000, 2850000, 2999000, 2950000, 2690000]\n"
     ]
    }
   ],
   "source": [
    "outliers_of_price = []\n",
    "def detect_outlier(data):\n",
    "    \n",
    "    threshold=3\n",
    "    mean_of_data = np.mean(data)\n",
    "    std_of_data =np.std(data)\n",
    "    \n",
    "    \n",
    "    for observation in data:\n",
    "        z_score= (observation - mean_of_data)/std_of_data \n",
    "        if np.abs(z_score) > threshold:\n",
    "            outliers_of_price.append(observation)\n",
    "    return outliers_of_price\n",
    "\n",
    "outlier_of_price = detect_outlier(df.Price)\n",
    "print(outlier_of_price)"
   ]
  },
  {
   "cell_type": "code",
   "execution_count": 22,
   "id": "50a8ae61",
   "metadata": {},
   "outputs": [
    {
     "name": "stdout",
     "output_type": "stream",
     "text": [
      "243\n"
     ]
    }
   ],
   "source": [
    "number_of_outlier_of_price = len(outlier_of_price)\n",
    "print(number_of_outlier_of_price)"
   ]
  },
  {
   "cell_type": "code",
   "execution_count": 12,
   "id": "78c9eff2",
   "metadata": {
    "scrolled": true
   },
   "outputs": [
    {
     "name": "stdout",
     "output_type": "stream",
     "text": [
      "(array([  35,  203,  234,  300,  463,  869,  932,  986, 1133, 1137, 1539,\n",
      "       1716, 1736, 1910, 2132, 2149, 2354, 2376, 2377, 2449, 2469, 2610,\n",
      "       2624, 2775, 2801, 2938, 3004, 3023, 3987, 4075, 4095, 4101, 4180,\n",
      "       4264, 4309, 4361, 4414, 4431, 4440, 4503, 4677, 4712, 4750, 4751,\n",
      "       4804, 4808, 4809, 4862, 4903, 4984, 5177, 5215, 5239, 5315, 5328,\n",
      "       5338, 5401, 5416, 5599, 5663, 5677, 5839, 5867, 5890, 6061, 6296,\n",
      "       6317, 6380, 6395, 6421, 6722, 6785, 6789, 6818, 7006, 7024, 7048,\n",
      "       7052, 7290, 7314, 7449, 7473, 7524, 7596, 7603, 7668, 7709, 7787,\n",
      "       7820, 7845, 7851, 7977, 8076, 8122, 8197, 8198], dtype=int64),)\n"
     ]
    }
   ],
   "source": [
    "print(np.where(df['Price'] > 3000000))"
   ]
  },
  {
   "cell_type": "code",
   "execution_count": 15,
   "id": "2718ca61",
   "metadata": {},
   "outputs": [
    {
     "name": "stdout",
     "output_type": "stream",
     "text": [
      "<class 'pandas.core.frame.DataFrame'>\n",
      "Int64Index: 8333 entries, 0 to 8332\n",
      "Data columns (total 18 columns):\n",
      " #   Column                  Non-Null Count  Dtype  \n",
      "---  ------                  --------------  -----  \n",
      " 0   Area                    8333 non-null   float64\n",
      " 1   Price                   8333 non-null   int64  \n",
      " 2   State_of_building       6195 non-null   object \n",
      " 3   Facades                 6649 non-null   float64\n",
      " 4   Bedrooms                8269 non-null   float64\n",
      " 5   Kitchen                 5921 non-null   object \n",
      " 6   Furnished               8333 non-null   object \n",
      " 7   Open_fire               8333 non-null   object \n",
      " 8   Zip_code                8333 non-null   int64  \n",
      " 9   Land_surface            8333 non-null   float64\n",
      " 10  Terrace                 8333 non-null   object \n",
      " 11  Terrace_surface         8333 non-null   int64  \n",
      " 12  Swimming_pool           8333 non-null   object \n",
      " 13  Subtype_property        8333 non-null   object \n",
      " 14  Garden                  8333 non-null   object \n",
      " 15  Garden_surface          8333 non-null   int64  \n",
      " 16  Regions                 8333 non-null   object \n",
      " 17  Price_per_square_meter  8333 non-null   float64\n",
      "dtypes: float64(5), int64(4), object(9)\n",
      "memory usage: 1.2+ MB\n"
     ]
    }
   ],
   "source": [
    "df.info()"
   ]
  },
  {
   "cell_type": "code",
   "execution_count": 16,
   "id": "6ae61c30",
   "metadata": {},
   "outputs": [],
   "source": [
    "delete_row = [  35,  203,  234,  300,  463,  869,  932,  986, 1133, 1137, 1539,\n",
    "       1716, 1736, 1910, 2132, 2149, 2354, 2376, 2377, 2449, 2469, 2610,\n",
    "       2624, 2775, 2801, 2938, 3004, 3023, 3987, 4075, 4095, 4101, 4180,\n",
    "       4264, 4309, 4361, 4414, 4431, 4440, 4503, 4677, 4712, 4750, 4751,\n",
    "       4804, 4808, 4809, 4862, 4903, 4984, 5177, 5215, 5239, 5315, 5328,\n",
    "       5338, 5401, 5416, 5599, 5663, 5677, 5839, 5867, 5890, 6061, 6296,\n",
    "       6317, 6380, 6395, 6421, 6722, 6785, 6789, 6818, 7006, 7024, 7048,\n",
    "       7052, 7290, 7314, 7449, 7473, 7524, 7596, 7603, 7668, 7709, 7787,\n",
    "       7820, 7845, 7851, 7977, 8076, 8122, 8197, 8198]\n",
    "\n",
    "df = df.drop(df.index[delete_row])"
   ]
  },
  {
   "cell_type": "code",
   "execution_count": 17,
   "id": "3169eae2",
   "metadata": {},
   "outputs": [
    {
     "name": "stdout",
     "output_type": "stream",
     "text": [
      "<class 'pandas.core.frame.DataFrame'>\n",
      "Int64Index: 8237 entries, 0 to 8332\n",
      "Data columns (total 18 columns):\n",
      " #   Column                  Non-Null Count  Dtype  \n",
      "---  ------                  --------------  -----  \n",
      " 0   Area                    8237 non-null   float64\n",
      " 1   Price                   8237 non-null   int64  \n",
      " 2   State_of_building       6102 non-null   object \n",
      " 3   Facades                 6556 non-null   float64\n",
      " 4   Bedrooms                8177 non-null   float64\n",
      " 5   Kitchen                 5849 non-null   object \n",
      " 6   Furnished               8237 non-null   object \n",
      " 7   Open_fire               8237 non-null   object \n",
      " 8   Zip_code                8237 non-null   int64  \n",
      " 9   Land_surface            8237 non-null   float64\n",
      " 10  Terrace                 8237 non-null   object \n",
      " 11  Terrace_surface         8237 non-null   int64  \n",
      " 12  Swimming_pool           8237 non-null   object \n",
      " 13  Subtype_property        8237 non-null   object \n",
      " 14  Garden                  8237 non-null   object \n",
      " 15  Garden_surface          8237 non-null   int64  \n",
      " 16  Regions                 8237 non-null   object \n",
      " 17  Price_per_square_meter  8237 non-null   float64\n",
      "dtypes: float64(5), int64(4), object(9)\n",
      "memory usage: 1.2+ MB\n"
     ]
    }
   ],
   "source": [
    "df.info()"
   ]
  },
  {
   "cell_type": "code",
   "execution_count": 18,
   "id": "9b113d36",
   "metadata": {},
   "outputs": [
    {
     "data": {
      "text/plain": [
       "(array([-500000.,       0.,  500000., 1000000., 1500000., 2000000.,\n",
       "        2500000., 3000000., 3500000.]),\n",
       " [Text(0, 0, ''),\n",
       "  Text(0, 0, ''),\n",
       "  Text(0, 0, ''),\n",
       "  Text(0, 0, ''),\n",
       "  Text(0, 0, ''),\n",
       "  Text(0, 0, ''),\n",
       "  Text(0, 0, ''),\n",
       "  Text(0, 0, ''),\n",
       "  Text(0, 0, '')])"
      ]
     },
     "execution_count": 18,
     "metadata": {},
     "output_type": "execute_result"
    },
    {
     "data": {
      "image/png": "[encoded data removed]",
      "text/plain": [
       "<Figure size 864x432 with 1 Axes>"
      ]
     },
     "metadata": {
      "needs_background": "light"
     },
     "output_type": "display_data"
    }
   ],
   "source": [
    "# Set figure size with matplotlib\n",
    "plt.figure(figsize=(12,6))\n",
    "\n",
    "# Boxplot for price only\n",
    "sns.boxplot(x=df['Price'])\n",
    "plt.xticks(rotation=45)"
   ]
  },
  {
   "cell_type": "code",
   "execution_count": 19,
   "id": "9ecc5f9e",
   "metadata": {},
   "outputs": [
    {
     "name": "stdout",
     "output_type": "stream",
     "text": [
      "[1850000, 1950000, 2450000, 2950000, 1875000, 2750000, 2999000, 2550000, 2000000, 1895000, 2800000, 2600000, 2890000, 2200000, 1895000, 2750000, 2295000, 2350000, 2495000, 2295000, 2500000, 2550000, 2250000, 2190000, 2985000, 2950000, 2295000, 1850000, 2890000, 2350000, 1890000, 1850000, 2190000, 2290000, 2550000, 1999000, 1850000, 2650000, 2999999, 2400000, 2690000, 2285000, 2150000, 2850000, 2450000, 2450000, 1950000, 2075000, 1999000, 2100000, 2999000, 2250000, 2450000, 2750000, 2600000, 2550000, 2260000, 1980000, 2450000, 2495000, 1955000, 2295000, 2150000, 1900000, 2950000, 1995000, 3000000, 2145000, 2200000, 2600000, 2249000, 2200000, 2999000, 2195000, 1950000, 1850000, 2990000, 2999999, 1990000, 1975000, 2120000, 2325000, 1950000, 1895000, 1790000, 1950000, 3000000, 2900000, 1950000, 2495000, 1945000, 2750000, 2300000, 2495000, 2490000, 2985000, 2690000, 2750000, 2600000, 1845000, 1950000, 2750000, 2150000, 2575000, 1999000, 2500000, 2999000, 1850000, 1875000, 1950000, 1875000, 2290000, 2250000, 2200000, 1990000, 2685000, 1875000, 2600000, 1980000, 1950000, 2875000, 2990000, 2450000, 2750000, 1800000, 2350000, 1950000, 2990000, 1790000, 2750000, 2100000, 1875000, 1990000, 2990000, 2490000, 1810000, 2250000, 2690000, 2950000, 2950000, 2800000, 3000000, 1995000, 2750000, 2000000, 2285000, 3000000, 2480000, 1950000, 1795000, 2990000, 1975000, 2200000, 2450000, 1900000, 2800000, 2300000, 2500000, 2750000, 2200000, 2100000, 2290000, 1995000, 2800000, 2500000, 2290000, 2495000, 2595000, 2950000, 2580000, 2495000, 2690000, 2249000, 2575000, 1985000, 2150000, 2495000, 1795000, 2690000, 2950000, 2950000, 1985000, 2480000, 1875000, 1790000, 2450000, 2399000, 2160000, 2450000, 2495000, 2800000, 1999000, 2520000, 2850000, 2290000, 1950000, 1950000, 1950000, 1790000, 2600000, 1950000, 2450000, 2200000, 2999000, 2000000, 1810000, 2790000, 2990000, 1885000, 2295000, 2285000, 2800000, 2490000, 1875000, 2950000, 1790000, 2200000, 2690000, 2950000, 2250000, 2895000, 2495000, 2495000, 2399000, 2600000, 1980000, 2500000, 2200000, 2800000, 2750000, 2800000, 1950000, 2400000, 2295000, 1950000, 2120000, 2495000, 2895000, 2860000, 2850000, 2999000, 2950000, 2690000]\n"
     ]
    }
   ],
   "source": [
    "outliers_of_price = []\n",
    "def detect_outlier(data):\n",
    "    \n",
    "    threshold=3\n",
    "    mean_of_data = np.mean(data)\n",
    "    std_of_data =np.std(data)\n",
    "    \n",
    "    \n",
    "    for observation in data:\n",
    "        z_score= (observation - mean_of_data)/std_of_data \n",
    "        if np.abs(z_score) > threshold:\n",
    "            outliers_of_price.append(observation)\n",
    "    return outliers_of_price\n",
    "\n",
    "outlier_of_price = detect_outlier(df.Price)\n",
    "print(outlier_of_price)"
   ]
  },
  {
   "cell_type": "code",
   "execution_count": 20,
   "id": "b0ae2cac",
   "metadata": {},
   "outputs": [
    {
     "name": "stdout",
     "output_type": "stream",
     "text": [
      "[0.61773643 0.51800723 0.06416589 ... 0.90281265 0.6970127  0.24889528]\n"
     ]
    }
   ],
   "source": [
    "z = np.abs(stats.zscore(df.Price))\n",
    "print(z)"
   ]
  },
  {
   "cell_type": "code",
   "execution_count": 21,
   "id": "3caf2fc6",
   "metadata": {},
   "outputs": [
    {
     "name": "stdout",
     "output_type": "stream",
     "text": [
      "(array([  29,   37,   54,   92,  171,  198,  200,  264,  275,  322,  332,\n",
      "        342,  347,  367,  454,  482,  483,  499,  598,  636,  672,  746,\n",
      "        773,  824,  855,  888,  930,  957,  968,  981,  988, 1026, 1054,\n",
      "       1094, 1143, 1195, 1269, 1306, 1340, 1344, 1351, 1406, 1412, 1438,\n",
      "       1461, 1483, 1518, 1607, 1631, 1650, 1671, 1690, 1718, 1737, 1777,\n",
      "       1778, 1945, 1949, 1960, 1968, 2028, 2185, 2194, 2195, 2221, 2246,\n",
      "       2290, 2355, 2386, 2535, 2565, 2591, 2598, 2651, 2664, 2681, 2698,\n",
      "       2705, 2710, 2792, 2836, 2849, 2858, 2873, 2900, 2911, 2945, 2974,\n",
      "       2986, 3127, 3174, 3265, 3266, 3294, 3299, 3311, 3335, 3345, 3383,\n",
      "       3427, 3451, 3468, 3487, 3523, 3591, 3593, 3602, 3636, 3646, 3665,\n",
      "       3679, 3690, 3691, 3748, 3794, 3806, 3811, 3814, 3856, 3894, 3968,\n",
      "       3993, 3998, 4055, 4111, 4193, 4195, 4196, 4297, 4325, 4343, 4372,\n",
      "       4402, 4480, 4495, 4555, 4581, 4628, 4637, 4665, 4695, 4704, 4725,\n",
      "       4782, 4799, 4839, 4854, 4898, 4906, 5000, 5003, 5007, 5055, 5060,\n",
      "       5078, 5094, 5103, 5121, 5375, 5429, 5440, 5445, 5448, 5473, 5511,\n",
      "       5520, 5587, 5605, 5626, 5640, 5643, 5699, 5721, 5748, 5776, 5836,\n",
      "       5865, 5900, 5911, 5916, 5986, 5993, 6008, 6016, 6038, 6068, 6092,\n",
      "       6129, 6173, 6283, 6306, 6369, 6406, 6413, 6419, 6451, 6458, 6498,\n",
      "       6683, 6708, 6710, 6732, 6761, 6777, 6811, 6842, 6850, 6903, 6937,\n",
      "       6976, 6990, 7040, 7121, 7217, 7227, 7267, 7361, 7379, 7398, 7406,\n",
      "       7418, 7445, 7452, 7454, 7562, 7699, 7714, 7716, 7727, 7759, 7873,\n",
      "       7966, 7974, 8054, 8058, 8087, 8088, 8118, 8136, 8188, 8194, 8208,\n",
      "       8228], dtype=int64),)\n"
     ]
    }
   ],
   "source": [
    "threshold = 3\n",
    "print(np.where(z > 3))"
   ]
  },
  {
   "cell_type": "code",
   "execution_count": 25,
   "id": "041e433c",
   "metadata": {},
   "outputs": [
    {
     "data": {
      "text/plain": [
       "(array([ 0.,  2.,  4.,  6.,  8., 10., 12., 14., 16., 18.]),\n",
       " [Text(0, 0, ''),\n",
       "  Text(0, 0, ''),\n",
       "  Text(0, 0, ''),\n",
       "  Text(0, 0, ''),\n",
       "  Text(0, 0, ''),\n",
       "  Text(0, 0, ''),\n",
       "  Text(0, 0, ''),\n",
       "  Text(0, 0, ''),\n",
       "  Text(0, 0, ''),\n",
       "  Text(0, 0, '')])"
      ]
     },
     "execution_count": 25,
     "metadata": {},
     "output_type": "execute_result"
    },
    {
     "data": {
      "image/png": "[encoded data removed]",
      "text/plain": [
       "<Figure size 864x432 with 1 Axes>"
      ]
     },
     "metadata": {
      "needs_background": "light"
     },
     "output_type": "display_data"
    }
   ],
   "source": [
    "# Set figure size with matplotlib\n",
    "plt.figure(figsize=(12,6))\n",
    "\n",
    "# Boxplot for facades only\n",
    "sns.boxplot(x=df['Facades'])\n",
    "plt.xticks(rotation=45)"
   ]
  },
  {
   "cell_type": "code",
   "execution_count": 26,
   "id": "90110e75",
   "metadata": {},
   "outputs": [
    {
     "data": {
      "text/plain": [
       "count    6556.000000\n",
       "mean        2.964308\n",
       "std         0.853015\n",
       "min         1.000000\n",
       "25%         2.000000\n",
       "50%         3.000000\n",
       "75%         4.000000\n",
       "max        16.000000\n",
       "Name: Facades, dtype: float64"
      ]
     },
     "execution_count": 26,
     "metadata": {},
     "output_type": "execute_result"
    }
   ],
   "source": [
    "df['Facades'].describe()"
   ]
  },
  {
   "cell_type": "code",
   "execution_count": 27,
   "id": "7def652a",
   "metadata": {},
   "outputs": [
    {
     "name": "stdout",
     "output_type": "stream",
     "text": [
      "2.0 7.0 -1.0\n"
     ]
    }
   ],
   "source": [
    "# finding the 1st quartile\n",
    "# q1 = np.quantile(df['Facades'], 0.25)\n",
    "q1 = df['Facades'].quantile(0.25)\n",
    " \n",
    "# finding the 3rd quartile\n",
    "# q3 = np.quantile(df['Facades'], 0.75)\n",
    "q3 = df['Facades'].quantile(0.75)\n",
    "med = np.median(df['Facades'])\n",
    " \n",
    "# finding the iqr region\n",
    "iqr = q3-q1\n",
    " \n",
    "# finding upper and lower whiskers\n",
    "upper_bound = q3+(1.5*iqr)\n",
    "lower_bound = q1-(1.5*iqr)\n",
    "print(iqr, upper_bound, lower_bound)"
   ]
  },
  {
   "cell_type": "code",
   "execution_count": 28,
   "id": "60a08cd8",
   "metadata": {},
   "outputs": [
    {
     "name": "stdout",
     "output_type": "stream",
     "text": [
      "[16.0, 6.0, 6.0, 7.0, 6.0]\n"
     ]
    }
   ],
   "source": [
    "outliers_of_facades = []\n",
    "def detect_outlier(data):\n",
    "    \n",
    "    threshold=3\n",
    "    mean_of_data = np.mean(data)\n",
    "    std_of_data =np.std(data)\n",
    "    \n",
    "    \n",
    "    for observation in data:\n",
    "        z_score= (observation - mean_of_data)/std_of_data \n",
    "        if np.abs(z_score) > threshold:\n",
    "            outliers_of_facades.append(observation)\n",
    "    return outliers_of_facades\n",
    "\n",
    "outlier_of_facades = detect_outlier(df.Facades)\n",
    "print(outlier_of_facades)"
   ]
  },
  {
   "cell_type": "code",
   "execution_count": 29,
   "id": "483feffc",
   "metadata": {},
   "outputs": [
    {
     "data": {
      "text/plain": [
       "(array([-10.,   0.,  10.,  20.,  30.,  40.,  50.,  60.]),\n",
       " [Text(0, 0, ''),\n",
       "  Text(0, 0, ''),\n",
       "  Text(0, 0, ''),\n",
       "  Text(0, 0, ''),\n",
       "  Text(0, 0, ''),\n",
       "  Text(0, 0, ''),\n",
       "  Text(0, 0, ''),\n",
       "  Text(0, 0, '')])"
      ]
     },
     "execution_count": 29,
     "metadata": {},
     "output_type": "execute_result"
    },
    {
     "data": {
      "image/png": "[encoded data removed]",
      "text/plain": [
       "<Figure size 864x432 with 1 Axes>"
      ]
     },
     "metadata": {
      "needs_background": "light"
     },
     "output_type": "display_data"
    }
   ],
   "source": [
    "# Set figure size with matplotlib\n",
    "plt.figure(figsize=(12,6))\n",
    "\n",
    "# Boxplot for bedrooms only\n",
    "sns.boxplot(x=df['Bedrooms'])\n",
    "plt.xticks(rotation=45)"
   ]
  },
  {
   "cell_type": "code",
   "execution_count": 30,
   "id": "17e01b72",
   "metadata": {},
   "outputs": [
    {
     "data": {
      "text/plain": [
       "count    8177.000000\n",
       "mean        3.680812\n",
       "std         1.725504\n",
       "min         1.000000\n",
       "25%         3.000000\n",
       "50%         3.000000\n",
       "75%         4.000000\n",
       "max        50.000000\n",
       "Name: Bedrooms, dtype: float64"
      ]
     },
     "execution_count": 30,
     "metadata": {},
     "output_type": "execute_result"
    }
   ],
   "source": [
    "df['Bedrooms'].describe()"
   ]
  },
  {
   "cell_type": "code",
   "execution_count": 31,
   "id": "9439b27f",
   "metadata": {},
   "outputs": [
    {
     "name": "stdout",
     "output_type": "stream",
     "text": [
      "[9.0, 10.0, 10.0, 10.0, 10.0, 9.0, 12.0, 10.0, 10.0, 10.0, 9.0, 18.0, 10.0, 14.0, 10.0, 10.0, 16.0, 12.0, 30.0, 13.0, 10.0, 10.0, 10.0, 16.0, 11.0, 20.0, 50.0, 10.0, 10.0, 9.0, 11.0, 11.0, 11.0, 10.0, 9.0, 9.0, 10.0, 10.0, 14.0, 30.0, 11.0, 15.0, 9.0, 9.0, 10.0, 9.0, 15.0, 9.0, 10.0, 11.0, 9.0, 10.0, 13.0, 11.0, 12.0, 9.0, 11.0, 10.0, 15.0, 10.0, 10.0, 9.0, 10.0, 9.0, 10.0, 9.0, 9.0, 10.0, 24.0, 9.0, 22.0, 10.0, 22.0, 16.0, 9.0, 9.0, 12.0, 9.0, 22.0, 11.0, 15.0, 9.0, 12.0, 9.0, 10.0, 10.0, 9.0, 9.0, 10.0, 10.0, 10.0, 11.0, 9.0, 9.0, 11.0, 9.0, 10.0, 12.0, 11.0, 18.0, 9.0, 10.0, 9.0, 12.0, 9.0, 39.0, 10.0, 10.0, 11.0, 10.0, 15.0, 32.0, 9.0, 10.0]\n"
     ]
    }
   ],
   "source": [
    "outliers_of_bedrooms = []\n",
    "def detect_outlier(data):\n",
    "    \n",
    "    threshold=3\n",
    "    mean_of_data = np.mean(data)\n",
    "    std_of_data =np.std(data)\n",
    "    \n",
    "    \n",
    "    for observation in data:\n",
    "        z_score= (observation - mean_of_data)/std_of_data \n",
    "        if np.abs(z_score) > threshold:\n",
    "            outliers_of_bedrooms.append(observation)\n",
    "    return outliers_of_bedrooms\n",
    "\n",
    "outlier_of_bedrooms = detect_outlier(df.Bedrooms)\n",
    "print(outlier_of_bedrooms)"
   ]
  },
  {
   "cell_type": "code",
   "execution_count": 32,
   "id": "f410d7ef",
   "metadata": {},
   "outputs": [
    {
     "name": "stdout",
     "output_type": "stream",
     "text": [
      "114\n"
     ]
    }
   ],
   "source": [
    "number_of_outlier_of_bedrooms = len(outlier_of_bedrooms)\n",
    "print(number_of_outlier_of_bedrooms)"
   ]
  },
  {
   "cell_type": "code",
   "execution_count": 33,
   "id": "192e1cbd",
   "metadata": {},
   "outputs": [
    {
     "data": {
      "text/plain": [
       "(array([-200000.,       0.,  200000.,  400000.,  600000.,  800000.,\n",
       "        1000000.]),\n",
       " [Text(0, 0, ''),\n",
       "  Text(0, 0, ''),\n",
       "  Text(0, 0, ''),\n",
       "  Text(0, 0, ''),\n",
       "  Text(0, 0, ''),\n",
       "  Text(0, 0, ''),\n",
       "  Text(0, 0, '')])"
      ]
     },
     "execution_count": 33,
     "metadata": {},
     "output_type": "execute_result"
    },
    {
     "data": {
      "image/png": "[encoded data removed]",
      "text/plain": [
       "<Figure size 864x432 with 1 Axes>"
      ]
     },
     "metadata": {
      "needs_background": "light"
     },
     "output_type": "display_data"
    }
   ],
   "source": [
    "# Set figure size with matplotlib\n",
    "plt.figure(figsize=(12,6))\n",
    "\n",
    "# Boxplot for Land_surface only\n",
    "sns.boxplot(x=df['Land_surface'])\n",
    "plt.xticks(rotation=45)"
   ]
  },
  {
   "cell_type": "code",
   "execution_count": 34,
   "id": "0655b19a",
   "metadata": {},
   "outputs": [
    {
     "data": {
      "text/plain": [
       "count      8237.000000\n",
       "mean       1404.120189\n",
       "std       14091.218878\n",
       "min           1.000000\n",
       "25%         192.000000\n",
       "50%         372.000000\n",
       "75%         837.000000\n",
       "max      907540.000000\n",
       "Name: Land_surface, dtype: float64"
      ]
     },
     "execution_count": 34,
     "metadata": {},
     "output_type": "execute_result"
    }
   ],
   "source": [
    "df['Land_surface'].describe()"
   ]
  },
  {
   "cell_type": "code",
   "execution_count": 35,
   "id": "bb21c62a",
   "metadata": {},
   "outputs": [
    {
     "name": "stdout",
     "output_type": "stream",
     "text": [
      "[60197.0, 45000.0, 52037.0, 503500.0, 71907.0, 60000.0, 110000.0, 57494.0, 907540.0, 77237.0, 44827.0, 472724.0, 44918.0, 95000.0, 49800.0, 52037.0, 75000.0, 45000.0, 472724.0, 54752.0]\n"
     ]
    }
   ],
   "source": [
    "outliers_of_land_surface = []\n",
    "def detect_outlier(data):\n",
    "    \n",
    "    threshold=3\n",
    "    mean_of_data = np.mean(data)\n",
    "    std_of_data =np.std(data)\n",
    "    \n",
    "    \n",
    "    for observation in data:\n",
    "        z_score= (observation - mean_of_data)/std_of_data \n",
    "        if np.abs(z_score) > threshold:\n",
    "            outliers_of_land_surface.append(observation)\n",
    "    return outliers_of_land_surface\n",
    "\n",
    "outlier_of_land_surface = detect_outlier(df.Land_surface)\n",
    "print(outlier_of_land_surface)"
   ]
  },
  {
   "cell_type": "code",
   "execution_count": 36,
   "id": "1f861e9d",
   "metadata": {},
   "outputs": [
    {
     "name": "stdout",
     "output_type": "stream",
     "text": [
      "20\n"
     ]
    }
   ],
   "source": [
    "outlier_of_land_surface_count = len(outlier_of_land_surface)\n",
    "print(outlier_of_land_surface_count)"
   ]
  },
  {
   "cell_type": "code",
   "execution_count": 38,
   "id": "7cca48c0",
   "metadata": {},
   "outputs": [
    {
     "data": {
      "text/plain": [
       "(array([-2500.,     0.,  2500.,  5000.,  7500., 10000., 12500., 15000.,\n",
       "        17500., 20000., 22500.]),\n",
       " [Text(0, 0, ''),\n",
       "  Text(0, 0, ''),\n",
       "  Text(0, 0, ''),\n",
       "  Text(0, 0, ''),\n",
       "  Text(0, 0, ''),\n",
       "  Text(0, 0, ''),\n",
       "  Text(0, 0, ''),\n",
       "  Text(0, 0, ''),\n",
       "  Text(0, 0, ''),\n",
       "  Text(0, 0, ''),\n",
       "  Text(0, 0, '')])"
      ]
     },
     "execution_count": 38,
     "metadata": {},
     "output_type": "execute_result"
    },
    {
     "data": {
      "image/png": "[encoded data removed]",
      "text/plain": [
       "<Figure size 864x432 with 1 Axes>"
      ]
     },
     "metadata": {
      "needs_background": "light"
     },
     "output_type": "display_data"
    }
   ],
   "source": [
    "# Set figure size with matplotlib\n",
    "plt.figure(figsize=(12,6))\n",
    "\n",
    "# Boxplot for Terrace_surface only\n",
    "sns.boxplot(x=df['Terrace_surface'])\n",
    "plt.xticks(rotation=45)"
   ]
  },
  {
   "cell_type": "code",
   "execution_count": 37,
   "id": "d8e6154e",
   "metadata": {},
   "outputs": [
    {
     "data": {
      "text/plain": [
       "count     8237.000000\n",
       "mean        13.833677\n",
       "std        224.105793\n",
       "min          0.000000\n",
       "25%          0.000000\n",
       "50%          0.000000\n",
       "75%         15.000000\n",
       "max      20194.000000\n",
       "Name: Terrace_surface, dtype: float64"
      ]
     },
     "execution_count": 37,
     "metadata": {},
     "output_type": "execute_result"
    }
   ],
   "source": [
    "df['Terrace_surface'].describe()"
   ]
  },
  {
   "cell_type": "code",
   "execution_count": 38,
   "id": "74cb4673",
   "metadata": {},
   "outputs": [
    {
     "name": "stdout",
     "output_type": "stream",
     "text": [
      "[1000, 20194]\n"
     ]
    }
   ],
   "source": [
    "outliers_of_terrace_surface = []\n",
    "def detect_outlier(data):\n",
    "    \n",
    "    threshold=3\n",
    "    mean_of_data = np.mean(data)\n",
    "    std_of_data =np.std(data)\n",
    "    \n",
    "    \n",
    "    for observation in data:\n",
    "        z_score= (observation - mean_of_data)/std_of_data \n",
    "        if np.abs(z_score) > threshold:\n",
    "            outliers_of_terrace_surface.append(observation)\n",
    "    return outliers_of_terrace_surface\n",
    "\n",
    "outlier_of_terrace_surface = detect_outlier(df.Terrace_surface)\n",
    "print(outlier_of_terrace_surface)"
   ]
  },
  {
   "cell_type": "code",
   "execution_count": 39,
   "id": "879376ab",
   "metadata": {},
   "outputs": [
    {
     "data": {
      "text/plain": [
       "(array([-200000.,       0.,  200000.,  400000.,  600000.,  800000.,\n",
       "        1000000., 1200000.]),\n",
       " [Text(0, 0, ''),\n",
       "  Text(0, 0, ''),\n",
       "  Text(0, 0, ''),\n",
       "  Text(0, 0, ''),\n",
       "  Text(0, 0, ''),\n",
       "  Text(0, 0, ''),\n",
       "  Text(0, 0, ''),\n",
       "  Text(0, 0, '')])"
      ]
     },
     "execution_count": 39,
     "metadata": {},
     "output_type": "execute_result"
    },
    {
     "data": {
      "image/png": "[encoded data removed]",
      "text/plain": [
       "<Figure size 864x432 with 1 Axes>"
      ]
     },
     "metadata": {
      "needs_background": "light"
     },
     "output_type": "display_data"
    }
   ],
   "source": [
    "# Set figure size with matplotlib\n",
    "plt.figure(figsize=(12,6))\n",
    "\n",
    "# Boxplot for Garden_surface only\n",
    "sns.boxplot(x=df['Garden_surface'])\n",
    "plt.xticks(rotation=45)"
   ]
  },
  {
   "cell_type": "code",
   "execution_count": 40,
   "id": "bc12855e",
   "metadata": {},
   "outputs": [
    {
     "data": {
      "text/plain": [
       "count    8.237000e+03\n",
       "mean     5.776759e+02\n",
       "std      1.663154e+04\n",
       "min      0.000000e+00\n",
       "25%      0.000000e+00\n",
       "50%      0.000000e+00\n",
       "75%      9.600000e+01\n",
       "max      1.134500e+06\n",
       "Name: Garden_surface, dtype: float64"
      ]
     },
     "execution_count": 40,
     "metadata": {},
     "output_type": "execute_result"
    }
   ],
   "source": [
    "df['Garden_surface'].describe()"
   ]
  },
  {
   "cell_type": "code",
   "execution_count": 41,
   "id": "96df6ed5",
   "metadata": {},
   "outputs": [
    {
     "name": "stdout",
     "output_type": "stream",
     "text": [
      "[1134500, 75000, 76020, 235000, 950002, 76020]\n"
     ]
    }
   ],
   "source": [
    "outliers_of_garden_surface = []\n",
    "def detect_outlier(data):\n",
    "    \n",
    "    threshold=3\n",
    "    mean_of_data = np.mean(data)\n",
    "    std_of_data =np.std(data)\n",
    "    \n",
    "    \n",
    "    for observation in data:\n",
    "        z_score= (observation - mean_of_data)/std_of_data \n",
    "        if np.abs(z_score) > threshold:\n",
    "            outliers_of_garden_surface.append(observation)\n",
    "    return outliers_of_garden_surface\n",
    "\n",
    "outlier_of_garden_surface = detect_outlier(df.Garden_surface)\n",
    "print(outlier_of_garden_surface)"
   ]
  },
  {
   "cell_type": "code",
   "execution_count": 42,
   "id": "f9067d67",
   "metadata": {},
   "outputs": [
    {
     "data": {
      "text/plain": [
       "(array([-2000.,     0.,  2000.,  4000.,  6000.,  8000., 10000., 12000.,\n",
       "        14000., 16000., 18000.]),\n",
       " [Text(0, 0, ''),\n",
       "  Text(0, 0, ''),\n",
       "  Text(0, 0, ''),\n",
       "  Text(0, 0, ''),\n",
       "  Text(0, 0, ''),\n",
       "  Text(0, 0, ''),\n",
       "  Text(0, 0, ''),\n",
       "  Text(0, 0, ''),\n",
       "  Text(0, 0, ''),\n",
       "  Text(0, 0, ''),\n",
       "  Text(0, 0, '')])"
      ]
     },
     "execution_count": 42,
     "metadata": {},
     "output_type": "execute_result"
    },
    {
     "data": {
      "image/png": "[encoded data removed]",
      "text/plain": [
       "<Figure size 864x432 with 1 Axes>"
      ]
     },
     "metadata": {
      "needs_background": "light"
     },
     "output_type": "display_data"
    }
   ],
   "source": [
    "# Set figure size with matplotlib\n",
    "plt.figure(figsize=(12,6))\n",
    "\n",
    "# Boxplot for price per square meter only\n",
    "sns.boxplot(x=df['Price_per_square_meter'])\n",
    "plt.xticks(rotation=45)"
   ]
  },
  {
   "cell_type": "code",
   "execution_count": 43,
   "id": "e70883d8",
   "metadata": {},
   "outputs": [
    {
     "data": {
      "text/plain": [
       "count     8237.000000\n",
       "mean      2077.652914\n",
       "std       1071.836721\n",
       "min         15.050000\n",
       "25%       1428.570000\n",
       "50%       1950.310000\n",
       "75%       2478.570000\n",
       "max      16086.960000\n",
       "Name: Price_per_square_meter, dtype: float64"
      ]
     },
     "execution_count": 43,
     "metadata": {},
     "output_type": "execute_result"
    }
   ],
   "source": [
    "df['Price_per_square_meter'].describe()"
   ]
  },
  {
   "cell_type": "code",
   "execution_count": 44,
   "id": "d99b2c43",
   "metadata": {},
   "outputs": [
    {
     "name": "stdout",
     "output_type": "stream",
     "text": [
      "[6208.33, 5571.43, 5357.14, 6111.11, 15701.57, 5882.35, 5714.29, 6500.0, 6215.05, 5319.44, 7442.53, 5625.0, 5625.0, 5598.77, 5325.93, 6219.51, 6218.75, 6611.11, 16086.96, 6215.05, 7019.23, 5882.35, 5320.86, 6625.0, 5380.0, 5594.06, 5632.18, 9457.45, 6916.67, 6562.5, 15701.57, 6046.51, 5916.67, 5544.44, 7603.69, 11538.46, 9457.45, 6025.28, 6075.0, 6208.33, 5655.53, 9460.57, 5613.81, 5594.06, 11538.46, 6184.21, 6250.0, 5423.91, 5417.83, 6123.6, 11078.65, 5750.0, 6218.75, 7222.22, 5375.0, 6250.0, 8640.94, 15701.57, 5357.14, 6611.11, 6944.44, 5571.43, 5645.16, 5980.0, 5493.27, 6250.0, 5595.24, 5516.61, 10833.33, 5516.61, 5333.33, 5300.0, 11538.46, 5789.47, 11538.46, 5472.44, 5344.83, 5733.94, 5753.14, 5655.53, 5555.56, 10903.36, 6311.69, 9113.48, 5733.33, 8640.94, 6904.76, 7631.58, 5375.0, 5423.91, 6551.09, 5380.0, 5997.5, 5300.0, 6743.24, 5857.74, 5833.33, 7794.12, 15701.57, 6600.0, 5980.0, 6075.0, 6944.44, 5870.59, 5544.44, 5997.5, 7854.98, 5866.67, 5990.78, 15701.57]\n"
     ]
    }
   ],
   "source": [
    "outliers_of_price_per_square_meter = []\n",
    "def detect_outlier(data):\n",
    "    \n",
    "    threshold=3\n",
    "    mean_of_data = np.mean(data)\n",
    "    std_of_data =np.std(data)\n",
    "    \n",
    "    \n",
    "    for observation in data:\n",
    "        z_score= (observation - mean_of_data)/std_of_data \n",
    "        if np.abs(z_score) > threshold:\n",
    "            outliers_of_price_per_square_meter.append(observation)\n",
    "    return outliers_of_price_per_square_meter\n",
    "\n",
    "outlier_of_price_per_square_meter = detect_outlier(df.Price_per_square_meter)\n",
    "print(outlier_of_price_per_square_meter)"
   ]
  },
  {
   "cell_type": "code",
   "execution_count": 45,
   "id": "3d0d4d8b",
   "metadata": {},
   "outputs": [
    {
     "name": "stdout",
     "output_type": "stream",
     "text": [
      "110\n"
     ]
    }
   ],
   "source": [
    "number_of_outlier_of_price_per_square_meter = len(outlier_of_price_per_square_meter)\n",
    "print(number_of_outlier_of_price_per_square_meter)"
   ]
  },
  {
   "cell_type": "code",
   "execution_count": 78,
   "id": "a32be6a4",
   "metadata": {},
   "outputs": [],
   "source": [
    "df_data.to_csv('house_data_price_outlier_remove.csv')"
   ]
  },
  {
   "cell_type": "code",
   "execution_count": null,
   "id": "ec55d4f0",
   "metadata": {},
   "outputs": [],
   "source": []
  }
 ],
 "metadata": {
  "kernelspec": {
   "display_name": "Python 3",
   "language": "python",
   "name": "python3"
  },
  "language_info": {
   "codemirror_mode": {
    "name": "ipython",
    "version": 3
   },
   "file_extension": ".py",
   "mimetype": "text/x-python",
   "name": "python",
   "nbconvert_exporter": "python",
   "pygments_lexer": "ipython3",
   "version": "3.8.8"
  }
 },
 "nbformat": 4,
 "nbformat_minor": 5
}
