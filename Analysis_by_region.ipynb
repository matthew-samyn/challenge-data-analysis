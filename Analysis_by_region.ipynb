{
 "cells": [
  {
   "cell_type": "code",
   "execution_count": 2,
   "id": "771d84dd-9cd7-44b4-a431-6e374885ba44",
   "metadata": {},
   "outputs": [
    {
     "name": "stdout",
     "output_type": "stream",
     "text": [
      "(8237, 18)\n",
      "(7801, 18)\n"
     ]
    },
    {
     "data": {
      "text/plain": "Index(['Area', 'Price', 'State_of_building', 'Facades', 'Bedrooms', 'Kitchen',\n       'Furnished', 'Open_fire', 'Zip_code', 'Land_surface', 'Terrace',\n       'Terrace_surface', 'Swimming_pool', 'Subtype_property', 'Garden',\n       'Garden_surface', 'Regions', 'Price_per_square_meter'],\n      dtype='object')"
     },
     "execution_count": 2,
     "metadata": {},
     "output_type": "execute_result"
    }
   ],
   "source": [
    "import pandas as pd\n",
    "import matplotlib.pyplot as plt\n",
    "import seaborn\n",
    "\n",
    "df = pd.read_csv(\"house_data_price_outlier_remove.csv\",index_col=\"Unnamed: 0\" )\n",
    "zips = pd.read_csv(\"Belgium_zip_municipalities.txt\", sep=\"\\t\")\n",
    "zips = zips.iloc[:,1:3]\n",
    "zips.columns = [\"Zip_code\", \"city\"]\n",
    "pd.options.display.float_format = '{:.0f}'.format\n",
    "print(df.shape)\n",
    "df = df.drop_duplicates([\"Area\", \"Price\", \"State_of_building\", \"Zip_code\",\"Land_surface\", \"Garden_surface\"])\n",
    "print(df.shape)\n",
    "df.to_csv(\"house_data_ultimate_cleaned\")\n",
    "df.columns"
   ]
  },
  {
   "cell_type": "code",
   "execution_count": 232,
   "outputs": [],
   "source": [
    "# Dropping outlier\n",
    "df.drop(df[df[\"Zip_code\"] == 1404].index,inplace=True)"
   ],
   "metadata": {
    "collapsed": false,
    "pycharm": {
     "name": "#%%\n"
    }
   }
  },
  {
   "cell_type": "code",
   "execution_count": 233,
   "outputs": [
    {
     "data": {
      "text/plain": "0       3290\n1       2070\n2       8800\n3       8000\n4       8800\n        ... \n8328    4280\n8329    4040\n8330    7390\n8331    4470\n8332    9290\nName: municipalities, Length: 7801, dtype: int64"
     },
     "execution_count": 233,
     "metadata": {},
     "output_type": "execute_result"
    }
   ],
   "source": [
    "# Grouping into municipalities.\n",
    "def rounding_down(x):\n",
    "    rest = x % 10\n",
    "    if rest != 0:\n",
    "        return x - rest\n",
    "    else:\n",
    "        return x\n",
    "\n",
    "df[\"municipalities\"] = df[\"Zip_code\"].apply(lambda x: rounding_down(x))\n",
    "df[\"municipalities\"]"
   ],
   "metadata": {
    "collapsed": false,
    "pycharm": {
     "name": "#%%\n"
    }
   }
  },
  {
   "cell_type": "code",
   "execution_count": 234,
   "outputs": [
    {
     "name": "stdout",
     "output_type": "stream",
     "text": [
      "(7801, 19)\n"
     ]
    }
   ],
   "source": [
    "# Dropping if only 2 valid price rows\n",
    "threshold = 5\n",
    "value_counts = df.municipalities.value_counts()\n",
    "to_remove = list(value_counts[value_counts <= threshold].index)\n",
    "df_threshold = df.copy()\n",
    "\n",
    "for label, row in df_threshold.iterrows():\n",
    "    if row.municipalities in to_remove:\n",
    "        df_threshold.drop(index=label, inplace=True)\n",
    "\n",
    "print(df.shape)\n",
    "\n",
    "\n"
   ],
   "metadata": {
    "collapsed": false,
    "pycharm": {
     "name": "#%%\n"
    }
   }
  },
  {
   "cell_type": "code",
   "execution_count": 235,
   "outputs": [
    {
     "name": "stdout",
     "output_type": "stream",
     "text": [
      "1180    122\n",
      "8300     86\n",
      "1640     52\n",
      "1050     50\n",
      "1950     18\n",
      "Name: municipalities, dtype: int64\n",
      "     Zip_code                city\n",
      "3        1050             Ixelles\n",
      "17       1180               Uccle\n",
      "200      1640  Rhode-Saint-Genèse\n",
      "278      1950            Kraainem\n",
      "962      8300        Knokke-Heist\n",
      "963      8300              Knokke\n",
      "   Zip_code                city  mean_price\n",
      "0      1050             Ixelles     1682692\n",
      "1      1180               Uccle     1537943\n",
      "2      1640  Rhode-Saint-Genèse     1373209\n",
      "3      1950            Kraainem     1276667\n",
      "4      8300        Knokke-Heist     1238990\n"
     ]
    }
   ],
   "source": [
    "# Most expensive areas (By price) - Belgium\n",
    "\n",
    "most_expensive_Belgium_zip = df_threshold.groupby([\"municipalities\"])[\"Price\"].mean().nlargest(5)\n",
    "new_df = df_threshold[df_threshold[\"municipalities\"].isin(list(most_expensive_Belgium_zip.index))]\n",
    "print(new_df[\"municipalities\"].value_counts())\n",
    "df_expensive_Belgium = zips[zips[\"Zip_code\"].isin(most_expensive_Belgium_zip.index)]\n",
    "print(df_expensive_Belgium)\n",
    "df_expensive_Belgium = df_expensive_Belgium.drop_duplicates(\"Zip_code\", keep=\"first\")\n",
    "df_expensive_Belgium.insert(2, \"mean_price\", most_expensive_Belgium_zip.values, True)\n",
    "df_expensive_Belgium = df_expensive_Belgium.reset_index(drop=True)\n",
    "print(df_expensive_Belgium)"
   ],
   "metadata": {
    "collapsed": false,
    "pycharm": {
     "name": "#%%\n"
    }
   }
  },
  {
   "cell_type": "code",
   "execution_count": 236,
   "outputs": [
    {
     "name": "stdout",
     "output_type": "stream",
     "text": [
      "1180    122\n",
      "8300     86\n",
      "1150     53\n",
      "1640     52\n",
      "1970     13\n",
      "Name: municipalities, dtype: int64\n",
      "     Zip_code                 city\n",
      "14       1150  Woluwe-Saint-Pierre\n",
      "17       1180                Uccle\n",
      "200      1640   Rhode-Saint-Genèse\n",
      "279      1970      Wezembeek-Oppem\n",
      "962      8300         Knokke-Heist\n",
      "963      8300               Knokke\n",
      "   Zip_code                 city  mean_sqm\n",
      "0      1150  Woluwe-Saint-Pierre      5458\n",
      "1      1180                Uccle      4131\n",
      "2      1640   Rhode-Saint-Genèse      3883\n",
      "3      1970      Wezembeek-Oppem      3848\n",
      "4      8300         Knokke-Heist      3785\n"
     ]
    }
   ],
   "source": [
    "# # Most expensive areas (By price-square meter) - Belgium\n",
    "most_expensive_Belgium_zip = df_threshold.groupby([\"municipalities\"])[\"Price_per_square_meter\"].mean().nlargest(5)\n",
    "new_df = df_threshold[df_threshold[\"municipalities\"].isin(list(most_expensive_Belgium_zip.index))]\n",
    "print(new_df[\"municipalities\"].value_counts())\n",
    "df_expensive_Belgium = zips[zips[\"Zip_code\"].isin(most_expensive_Belgium_zip.index)]\n",
    "print(df_expensive_Belgium)\n",
    "df_expensive_Belgium = df_expensive_Belgium.drop_duplicates(\"Zip_code\", keep=\"first\")\n",
    "df_expensive_Belgium.insert(2, \"mean_sqm\", most_expensive_Belgium_zip.values, True)\n",
    "df_expensive_Belgium = df_expensive_Belgium.reset_index(drop=True)\n",
    "print(df_expensive_Belgium)"
   ],
   "metadata": {
    "collapsed": false,
    "pycharm": {
     "name": "#%%\n"
    }
   }
  },
  {
   "cell_type": "code",
   "execution_count": 246,
   "outputs": [
    {
     "name": "stdout",
     "output_type": "stream",
     "text": [
      "municipalities\n",
      "3900   6250\n",
      "8300   5458\n",
      "8660   5003\n",
      "1180   4131\n",
      "1640   3883\n",
      "Name: Price_per_square_meter, dtype: float64\n",
      "1180    122\n",
      "8300     86\n",
      "1640     52\n",
      "8660      4\n",
      "3900      1\n",
      "Name: municipalities, dtype: int64\n"
     ]
    },
    {
     "ename": "TypeError",
     "evalue": "Series.name must be a hashable type",
     "output_type": "error",
     "traceback": [
      "\u001B[1;31m---------------------------------------------------------------------------\u001B[0m",
      "\u001B[1;31mTypeError\u001B[0m                                 Traceback (most recent call last)",
      "\u001B[1;32m<ipython-input-246-114d14148c8a>\u001B[0m in \u001B[0;36m<module>\u001B[1;34m\u001B[0m\n\u001B[0;32m     17\u001B[0m     \u001B[1;32mreturn\u001B[0m \u001B[0mdf_expensive\u001B[0m\u001B[1;33m\u001B[0m\u001B[1;33m\u001B[0m\u001B[0m\n\u001B[0;32m     18\u001B[0m \u001B[1;33m\u001B[0m\u001B[0m\n\u001B[1;32m---> 19\u001B[1;33m \u001B[0mprint\u001B[0m\u001B[1;33m(\u001B[0m\u001B[0mmake_top_5_mean\u001B[0m\u001B[1;33m(\u001B[0m\u001B[0mdf\u001B[0m\u001B[1;33m,\u001B[0m \u001B[1;34m\"municipalities\"\u001B[0m\u001B[1;33m,\u001B[0m \u001B[1;34m\"Price_per_square_meter\"\u001B[0m\u001B[1;33m)\u001B[0m\u001B[1;33m)\u001B[0m\u001B[1;33m\u001B[0m\u001B[1;33m\u001B[0m\u001B[0m\n\u001B[0m\u001B[0;32m     20\u001B[0m \u001B[1;33m\u001B[0m\u001B[0m\n",
      "\u001B[1;32m<ipython-input-246-114d14148c8a>\u001B[0m in \u001B[0;36mmake_top_5_mean\u001B[1;34m(df, postal_column, on_what)\u001B[0m\n\u001B[0;32m     10\u001B[0m     \u001B[0mdf_expensive_Belgium\u001B[0m \u001B[1;33m=\u001B[0m \u001B[0mdf_expensive\u001B[0m\u001B[1;33m.\u001B[0m\u001B[0mdrop_duplicates\u001B[0m\u001B[1;33m(\u001B[0m\u001B[1;34m\"Zip_code\"\u001B[0m\u001B[1;33m,\u001B[0m \u001B[0mkeep\u001B[0m\u001B[1;33m=\u001B[0m\u001B[1;34m\"first\"\u001B[0m\u001B[1;33m)\u001B[0m\u001B[1;33m\u001B[0m\u001B[1;33m\u001B[0m\u001B[0m\n\u001B[0;32m     11\u001B[0m \u001B[1;33m\u001B[0m\u001B[0m\n\u001B[1;32m---> 12\u001B[1;33m     \u001B[0mdummy\u001B[0m \u001B[1;33m=\u001B[0m \u001B[0mpd\u001B[0m\u001B[1;33m.\u001B[0m\u001B[0mSeries\u001B[0m\u001B[1;33m(\u001B[0m\u001B[0mlist\u001B[0m\u001B[1;33m(\u001B[0m\u001B[0mmost_expensive\u001B[0m\u001B[1;33m.\u001B[0m\u001B[0mindex\u001B[0m\u001B[1;33m)\u001B[0m\u001B[1;33m,\u001B[0m \u001B[0mname\u001B[0m \u001B[1;33m=\u001B[0m \u001B[0mdf_expensive_Belgium\u001B[0m\u001B[1;33m[\u001B[0m\u001B[1;34m\"Zip_code\"\u001B[0m\u001B[1;33m]\u001B[0m\u001B[1;33m)\u001B[0m\u001B[1;33m.\u001B[0m\u001B[0mto_frame\u001B[0m\u001B[1;33m(\u001B[0m\u001B[1;33m)\u001B[0m\u001B[1;33m\u001B[0m\u001B[1;33m\u001B[0m\u001B[0m\n\u001B[0m\u001B[0;32m     13\u001B[0m     \u001B[0mdf_expensive_Belgium\u001B[0m \u001B[1;33m=\u001B[0m \u001B[0mpd\u001B[0m\u001B[1;33m.\u001B[0m\u001B[0mmerge\u001B[0m\u001B[1;33m(\u001B[0m\u001B[0mdummy\u001B[0m\u001B[1;33m,\u001B[0m \u001B[0mdf\u001B[0m\u001B[1;33m,\u001B[0m \u001B[0mon\u001B[0m \u001B[1;33m=\u001B[0m \u001B[1;34m\"Zip_code\"\u001B[0m\u001B[1;33m,\u001B[0m \u001B[0mhow\u001B[0m \u001B[1;33m=\u001B[0m \u001B[1;34m'left'\u001B[0m\u001B[1;33m)\u001B[0m\u001B[1;33m\u001B[0m\u001B[1;33m\u001B[0m\u001B[0m\n\u001B[0;32m     14\u001B[0m \u001B[1;33m\u001B[0m\u001B[0m\n",
      "\u001B[1;32m~\\Desktop\\PycharmProjects\\Datacamp\\venv\\lib\\site-packages\\pandas\\core\\series.py\u001B[0m in \u001B[0;36m__init__\u001B[1;34m(self, data, index, dtype, name, copy, fastpath)\u001B[0m\n\u001B[0;32m    235\u001B[0m         \u001B[1;32melse\u001B[0m\u001B[1;33m:\u001B[0m\u001B[1;33m\u001B[0m\u001B[1;33m\u001B[0m\u001B[0m\n\u001B[0;32m    236\u001B[0m \u001B[1;33m\u001B[0m\u001B[0m\n\u001B[1;32m--> 237\u001B[1;33m             \u001B[0mname\u001B[0m \u001B[1;33m=\u001B[0m \u001B[0mibase\u001B[0m\u001B[1;33m.\u001B[0m\u001B[0mmaybe_extract_name\u001B[0m\u001B[1;33m(\u001B[0m\u001B[0mname\u001B[0m\u001B[1;33m,\u001B[0m \u001B[0mdata\u001B[0m\u001B[1;33m,\u001B[0m \u001B[0mtype\u001B[0m\u001B[1;33m(\u001B[0m\u001B[0mself\u001B[0m\u001B[1;33m)\u001B[0m\u001B[1;33m)\u001B[0m\u001B[1;33m\u001B[0m\u001B[1;33m\u001B[0m\u001B[0m\n\u001B[0m\u001B[0;32m    238\u001B[0m \u001B[1;33m\u001B[0m\u001B[0m\n\u001B[0;32m    239\u001B[0m             \u001B[1;32mif\u001B[0m \u001B[0mis_empty_data\u001B[0m\u001B[1;33m(\u001B[0m\u001B[0mdata\u001B[0m\u001B[1;33m)\u001B[0m \u001B[1;32mand\u001B[0m \u001B[0mdtype\u001B[0m \u001B[1;32mis\u001B[0m \u001B[1;32mNone\u001B[0m\u001B[1;33m:\u001B[0m\u001B[1;33m\u001B[0m\u001B[1;33m\u001B[0m\u001B[0m\n",
      "\u001B[1;32m~\\Desktop\\PycharmProjects\\Datacamp\\venv\\lib\\site-packages\\pandas\\core\\indexes\\base.py\u001B[0m in \u001B[0;36mmaybe_extract_name\u001B[1;34m(name, obj, cls)\u001B[0m\n\u001B[0;32m   5962\u001B[0m     \u001B[1;31m# GH#29069\u001B[0m\u001B[1;33m\u001B[0m\u001B[1;33m\u001B[0m\u001B[1;33m\u001B[0m\u001B[0m\n\u001B[0;32m   5963\u001B[0m     \u001B[1;32mif\u001B[0m \u001B[1;32mnot\u001B[0m \u001B[0mis_hashable\u001B[0m\u001B[1;33m(\u001B[0m\u001B[0mname\u001B[0m\u001B[1;33m)\u001B[0m\u001B[1;33m:\u001B[0m\u001B[1;33m\u001B[0m\u001B[1;33m\u001B[0m\u001B[0m\n\u001B[1;32m-> 5964\u001B[1;33m         \u001B[1;32mraise\u001B[0m \u001B[0mTypeError\u001B[0m\u001B[1;33m(\u001B[0m\u001B[1;34mf\"{cls.__name__}.name must be a hashable type\"\u001B[0m\u001B[1;33m)\u001B[0m\u001B[1;33m\u001B[0m\u001B[1;33m\u001B[0m\u001B[0m\n\u001B[0m\u001B[0;32m   5965\u001B[0m \u001B[1;33m\u001B[0m\u001B[0m\n\u001B[0;32m   5966\u001B[0m     \u001B[1;32mreturn\u001B[0m \u001B[0mname\u001B[0m\u001B[1;33m\u001B[0m\u001B[1;33m\u001B[0m\u001B[0m\n",
      "\u001B[1;31mTypeError\u001B[0m: Series.name must be a hashable type"
     ]
    }
   ],
   "source": [
    "# Making a function out of it.\n",
    "\n",
    "def make_top_5_mean(df, postal_column:str, on_what:str) -> str:\n",
    "    most_expensive= df.groupby([postal_column])[on_what].mean().nlargest(5)\n",
    "\n",
    "    print(most_expensive)\n",
    "    new_df = df[df[postal_column].isin(list(most_expensive.index))]\n",
    "    print(new_df[postal_column].value_counts())\n",
    "    df_expensive = zips[zips[\"Zip_code\"].isin(most_expensive.index)]\n",
    "    df_expensive_Belgium = df_expensive.drop_duplicates(\"Zip_code\", keep=\"first\")\n",
    "\n",
    "    dummy = pd.Series(list(most_expensive.index), name = df_expensive_Belgium[\"Zip_code\"]).to_frame()\n",
    "    df_expensive_Belgium = pd.merge(dummy, df, on = \"Zip_code\", how = 'left')\n",
    "\n",
    "    df_expensive_Belgium.insert(2, \"mean_sqm\", list(most_expensive.values), True)\n",
    "    df_expensive= df_expensive_Belgium.reset_index(drop=True)\n",
    "    return df_expensive\n",
    "\n",
    "print(make_top_5_mean(df, \"municipalities\", \"Price_per_square_meter\"))"
   ],
   "metadata": {
    "collapsed": false,
    "pycharm": {
     "name": "#%%\n"
    }
   }
  },
  {
   "cell_type": "code",
   "execution_count": 210,
   "outputs": [],
   "source": [],
   "metadata": {
    "collapsed": false,
    "pycharm": {
     "name": "#%%\n"
    }
   }
  },
  {
   "cell_type": "code",
   "execution_count": null,
   "outputs": [],
   "source": [],
   "metadata": {
    "collapsed": false,
    "pycharm": {
     "name": "#%%\n"
    }
   }
  }
 ],
 "metadata": {
  "kernelspec": {
   "name": "pycharm-c0017d1f",
   "language": "python",
   "display_name": "PyCharm (matplotlib)"
  },
  "language_info": {
   "codemirror_mode": {
    "name": "ipython",
    "version": 3
   },
   "file_extension": ".py",
   "mimetype": "text/x-python",
   "name": "python",
   "nbconvert_exporter": "python",
   "pygments_lexer": "ipython3",
   "version": "3.9.5"
  }
 },
 "nbformat": 4,
 "nbformat_minor": 5
}