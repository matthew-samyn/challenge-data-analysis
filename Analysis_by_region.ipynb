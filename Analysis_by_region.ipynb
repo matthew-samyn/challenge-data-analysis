{
 "cells": [
  {
   "cell_type": "code",
   "execution_count": 333,
   "id": "771d84dd-9cd7-44b4-a431-6e374885ba44",
   "metadata": {},
   "outputs": [
    {
     "name": "stdout",
     "output_type": "stream",
     "text": [
      "(8237, 18)\n",
      "(7801, 18)\n",
      "Index(['Area', 'Price', 'State_of_building', 'Facades', 'Bedrooms', 'Kitchen',\n",
      "       'Furnished', 'Open_fire', 'Zip_code', 'Land_surface', 'Terrace',\n",
      "       'Terrace_surface', 'Swimming_pool', 'Subtype_property', 'Garden',\n",
      "       'Garden_surface', 'Regions', 'Price_per_square_meter'],\n",
      "      dtype='object')\n",
      "Index(['Zip_code', 'city'], dtype='object')\n"
     ]
    }
   ],
   "source": [
    "import pandas as pd\n",
    "import matplotlib.pyplot as plt\n",
    "import seaborn as sns\n",
    "\n",
    "df = pd.read_csv(\"house_data_price_outlier_remove.csv\",index_col=\"Unnamed: 0\" )\n",
    "zips = pd.read_csv(\"Belgium_zip_municipalities.txt\", sep=\"\\t\")\n",
    "zips = zips.iloc[:,1:3]\n",
    "zips.columns = [\"Zip_code\", \"city\"]\n",
    "pd.options.display.float_format = '{:.0f}'.format\n",
    "print(df.shape)\n",
    "df = df.drop_duplicates([\"Area\", \"Price\", \"State_of_building\", \"Zip_code\",\"Land_surface\", \"Garden_surface\"])\n",
    "print(df.shape)\n",
    "df.to_csv(\"house_data_ultimate_cleaned\")\n",
    "print(df.columns)\n",
    "print(zips.columns)"
   ]
  },
  {
   "cell_type": "code",
   "execution_count": 334,
   "outputs": [],
   "source": [
    "# Dropping outlier\n",
    "df.drop(df[df[\"Zip_code\"] == 1404].index,inplace=True)"
   ],
   "metadata": {
    "collapsed": false,
    "pycharm": {
     "name": "#%%\n"
    }
   }
  },
  {
   "cell_type": "code",
   "execution_count": 335,
   "outputs": [
    {
     "data": {
      "text/plain": "0       3290\n1       2070\n2       8800\n3       8000\n4       8800\n        ... \n8328    4280\n8329    4040\n8330    7390\n8331    4470\n8332    9290\nName: municipalities, Length: 7801, dtype: int64"
     },
     "execution_count": 335,
     "metadata": {},
     "output_type": "execute_result"
    }
   ],
   "source": [
    "# Grouping into municipalities.\n",
    "def rounding_down(x):\n",
    "    rest = x % 10\n",
    "    if rest != 0:\n",
    "        return x - rest\n",
    "    else:\n",
    "        return x\n",
    "\n",
    "df[\"municipalities\"] = df[\"Zip_code\"].apply(lambda x: rounding_down(x))\n",
    "df[\"municipalities\"]"
   ],
   "metadata": {
    "collapsed": false,
    "pycharm": {
     "name": "#%%\n"
    }
   }
  },
  {
   "cell_type": "code",
   "execution_count": 336,
   "outputs": [
    {
     "name": "stdout",
     "output_type": "stream",
     "text": [
      "(7801, 19)\n"
     ]
    }
   ],
   "source": [
    "# Dropping if only 5 valid price rows\n",
    "threshold = 5\n",
    "value_counts = df.municipalities.value_counts()\n",
    "to_remove = list(value_counts[value_counts <= threshold].index)\n",
    "df_threshold = df.copy()\n",
    "\n",
    "for label, row in df_threshold.iterrows():\n",
    "    if row.municipalities in to_remove:\n",
    "        df_threshold.drop(index=label, inplace=True)\n",
    "\n",
    "print(df.shape)"
   ],
   "metadata": {
    "collapsed": false,
    "pycharm": {
     "name": "#%%\n"
    }
   }
  },
  {
   "cell_type": "code",
   "execution_count": 337,
   "outputs": [],
   "source": [
    "# Function top 5\n",
    "def make_top_5(df, postal_column:str, on_what:str, method:str, top_or_bottom:str) -> str:\n",
    "    number_of_values = 5\n",
    "    if top_or_bottom == \"top\":\n",
    "        dct = dict()\n",
    "        postal_on_what = df.groupby(postal_column).agg({on_what:method})\n",
    "        postal_on_what = postal_on_what.sort_values(on_what, ascending=False)[:number_of_values]\n",
    "        postal_on_what.reset_index(level=0, inplace=True)\n",
    "        df_with_cities = postal_on_what.merge(zips, right_on=\"Zip_code\", left_on=\"municipalities\", how=\"left\")\n",
    "        \"\"\"print(df_with_cities)\"\"\"\n",
    "        df_with_cities = df_with_cities.drop_duplicates(\"Zip_code\", keep=\"first\")\n",
    "        df_with_cities = df_with_cities.drop(\"municipalities\", axis=1)\n",
    "        if on_what == \"Price_per_square_meter\":\n",
    "            df_with_cities = df_with_cities[[\"Zip_code\", \"city\", on_what]]\n",
    "            df_with_cities.columns = [\"Zip_code\", \"municipality\", on_what]\n",
    "        else:\n",
    "            df_with_cities = df_with_cities[[\"Zip_code\", \"city\", on_what]]\n",
    "            df_with_cities.columns = [\"Zip_code\", \"municipality\", f\"{on_what}_{method}\"]\n",
    "        df_with_cities.index = [x for x in range(1,number_of_values+1)]\n",
    "        return df_with_cities\n",
    "    elif top_or_bottom == \"bottom\":\n",
    "        dct = dict()\n",
    "        postal_on_what = df.groupby(postal_column).agg({on_what:method})\n",
    "        postal_on_what = postal_on_what.sort_values(on_what, ascending=True)[:number_of_values]\n",
    "        postal_on_what.reset_index(level=0, inplace=True)\n",
    "        df_with_cities = postal_on_what.merge(zips, right_on=\"Zip_code\", left_on=\"municipalities\", how=\"left\")\n",
    "        \"\"\"print(df_with_cities)\"\"\"\n",
    "        df_with_cities = df_with_cities.drop_duplicates(\"Zip_code\", keep=\"first\")\n",
    "        df_with_cities = df_with_cities.drop(\"municipalities\", axis=1)\n",
    "        if on_what == \"Price_per_square_meter\":\n",
    "            df_with_cities = df_with_cities[[\"Zip_code\", \"city\", on_what]]\n",
    "            df_with_cities.columns = [\"Zip_code\", \"municipality\", on_what]\n",
    "        else:\n",
    "            df_with_cities = df_with_cities[[\"Zip_code\", \"city\", on_what]]\n",
    "            df_with_cities.columns = [\"Zip_code\", \"municipality\", f\"{on_what}_{method}\"]\n",
    "        df_with_cities.index = [x for x in range(1,number_of_values+1)]\n",
    "        return df_with_cities\n",
    "    else:\n",
    "        raise ValueError(\"\"\"\n",
    "Unexpected argument.\n",
    "Expected 'top' or 'bottom'\"\"\")"
   ],
   "metadata": {
    "collapsed": false,
    "pycharm": {
     "name": "#%%\n"
    }
   }
  },
  {
   "cell_type": "code",
   "execution_count": 338,
   "outputs": [
    {
     "data": {
      "text/plain": "   Zip_code        municipality  Price_mean\n1      1640  Rhode-Saint-Genèse     1682692\n2      1180               Uccle     1537943\n3      8300        Knokke-Heist     1373209\n4      1950            Kraainem     1276667\n5      1050             Ixelles     1238990",
      "text/html": "<div>\n<style scoped>\n    .dataframe tbody tr th:only-of-type {\n        vertical-align: middle;\n    }\n\n    .dataframe tbody tr th {\n        vertical-align: top;\n    }\n\n    .dataframe thead th {\n        text-align: right;\n    }\n</style>\n<table border=\"1\" class=\"dataframe\">\n  <thead>\n    <tr style=\"text-align: right;\">\n      <th></th>\n      <th>Zip_code</th>\n      <th>municipality</th>\n      <th>Price_mean</th>\n    </tr>\n  </thead>\n  <tbody>\n    <tr>\n      <th>1</th>\n      <td>1640</td>\n      <td>Rhode-Saint-Genèse</td>\n      <td>1682692</td>\n    </tr>\n    <tr>\n      <th>2</th>\n      <td>1180</td>\n      <td>Uccle</td>\n      <td>1537943</td>\n    </tr>\n    <tr>\n      <th>3</th>\n      <td>8300</td>\n      <td>Knokke-Heist</td>\n      <td>1373209</td>\n    </tr>\n    <tr>\n      <th>4</th>\n      <td>1950</td>\n      <td>Kraainem</td>\n      <td>1276667</td>\n    </tr>\n    <tr>\n      <th>5</th>\n      <td>1050</td>\n      <td>Ixelles</td>\n      <td>1238990</td>\n    </tr>\n  </tbody>\n</table>\n</div>"
     },
     "execution_count": 338,
     "metadata": {},
     "output_type": "execute_result"
    }
   ],
   "source": [
    "# Most expensive mean - By price - Belgium\n",
    "\n",
    "top5_price_Belgium_mean = make_top_5(df_threshold, \"municipalities\", \"Price\", \"mean\", \"top\")\n",
    "top5_price_Belgium_mean"
   ],
   "metadata": {
    "collapsed": false,
    "pycharm": {
     "name": "#%%\n"
    }
   }
  },
  {
   "cell_type": "code",
   "execution_count": 339,
   "outputs": [
    {
     "data": {
      "text/plain": "   Zip_code        municipality  Price_median\n1      1640  Rhode-Saint-Genèse       1745000\n2      1180               Uccle       1492500\n3      8300        Knokke-Heist       1190000\n4      1050             Ixelles       1070000\n5      2000           Antwerpen        995000",
      "text/html": "<div>\n<style scoped>\n    .dataframe tbody tr th:only-of-type {\n        vertical-align: middle;\n    }\n\n    .dataframe tbody tr th {\n        vertical-align: top;\n    }\n\n    .dataframe thead th {\n        text-align: right;\n    }\n</style>\n<table border=\"1\" class=\"dataframe\">\n  <thead>\n    <tr style=\"text-align: right;\">\n      <th></th>\n      <th>Zip_code</th>\n      <th>municipality</th>\n      <th>Price_median</th>\n    </tr>\n  </thead>\n  <tbody>\n    <tr>\n      <th>1</th>\n      <td>1640</td>\n      <td>Rhode-Saint-Genèse</td>\n      <td>1745000</td>\n    </tr>\n    <tr>\n      <th>2</th>\n      <td>1180</td>\n      <td>Uccle</td>\n      <td>1492500</td>\n    </tr>\n    <tr>\n      <th>3</th>\n      <td>8300</td>\n      <td>Knokke-Heist</td>\n      <td>1190000</td>\n    </tr>\n    <tr>\n      <th>4</th>\n      <td>1050</td>\n      <td>Ixelles</td>\n      <td>1070000</td>\n    </tr>\n    <tr>\n      <th>5</th>\n      <td>2000</td>\n      <td>Antwerpen</td>\n      <td>995000</td>\n    </tr>\n  </tbody>\n</table>\n</div>"
     },
     "execution_count": 339,
     "metadata": {},
     "output_type": "execute_result"
    }
   ],
   "source": [
    "# Most expensive median - By price - Belgium\n",
    "top5_price_Belgium_median = make_top_5(df_threshold, \"municipalities\", \"Price\", \"median\", \"top\")\n",
    "top5_price_Belgium_median"
   ],
   "metadata": {
    "collapsed": false,
    "pycharm": {
     "name": "#%%\n"
    }
   }
  },
  {
   "cell_type": "code",
   "execution_count": 340,
   "outputs": [
    {
     "data": {
      "text/plain": "   Zip_code         municipality  Price_per_square_meter\n1      8300         Knokke-Heist                    5458\n2      1180                Uccle                    4131\n3      1640   Rhode-Saint-Genèse                    3883\n4      1150  Woluwe-Saint-Pierre                    3848\n5      1970      Wezembeek-Oppem                    3785",
      "text/html": "<div>\n<style scoped>\n    .dataframe tbody tr th:only-of-type {\n        vertical-align: middle;\n    }\n\n    .dataframe tbody tr th {\n        vertical-align: top;\n    }\n\n    .dataframe thead th {\n        text-align: right;\n    }\n</style>\n<table border=\"1\" class=\"dataframe\">\n  <thead>\n    <tr style=\"text-align: right;\">\n      <th></th>\n      <th>Zip_code</th>\n      <th>municipality</th>\n      <th>Price_per_square_meter</th>\n    </tr>\n  </thead>\n  <tbody>\n    <tr>\n      <th>1</th>\n      <td>8300</td>\n      <td>Knokke-Heist</td>\n      <td>5458</td>\n    </tr>\n    <tr>\n      <th>2</th>\n      <td>1180</td>\n      <td>Uccle</td>\n      <td>4131</td>\n    </tr>\n    <tr>\n      <th>3</th>\n      <td>1640</td>\n      <td>Rhode-Saint-Genèse</td>\n      <td>3883</td>\n    </tr>\n    <tr>\n      <th>4</th>\n      <td>1150</td>\n      <td>Woluwe-Saint-Pierre</td>\n      <td>3848</td>\n    </tr>\n    <tr>\n      <th>5</th>\n      <td>1970</td>\n      <td>Wezembeek-Oppem</td>\n      <td>3785</td>\n    </tr>\n  </tbody>\n</table>\n</div>"
     },
     "execution_count": 340,
     "metadata": {},
     "output_type": "execute_result"
    }
   ],
   "source": [
    "# Most expensive mean - By € / SQM - Belgium\n",
    "top5_sqm_Belgium_mean = make_top_5(df_threshold, \"municipalities\", \"Price_per_square_meter\", \"mean\", \"top\")\n",
    "top5_sqm_Belgium_mean"
   ],
   "metadata": {
    "collapsed": false,
    "pycharm": {
     "name": "#%%\n"
    }
   }
  },
  {
   "cell_type": "code",
   "execution_count": 341,
   "outputs": [],
   "source": [
    "# Only Flanders DataFrame\n",
    "df_threshold_Flanders = df_threshold[df_threshold[\"Regions\"] == \"Flanders\"]\n"
   ],
   "metadata": {
    "collapsed": false,
    "pycharm": {
     "name": "#%%\n"
    }
   }
  },
  {
   "cell_type": "code",
   "execution_count": 342,
   "outputs": [
    {
     "data": {
      "text/plain": "   Zip_code        municipality  Price_mean\n1      1640  Rhode-Saint-Genèse     1682692\n2      8300        Knokke-Heist     1373209\n3      1950            Kraainem     1276667\n4      3080            Tervuren     1149362\n5      2970      'S Gravenwezel     1111000",
      "text/html": "<div>\n<style scoped>\n    .dataframe tbody tr th:only-of-type {\n        vertical-align: middle;\n    }\n\n    .dataframe tbody tr th {\n        vertical-align: top;\n    }\n\n    .dataframe thead th {\n        text-align: right;\n    }\n</style>\n<table border=\"1\" class=\"dataframe\">\n  <thead>\n    <tr style=\"text-align: right;\">\n      <th></th>\n      <th>Zip_code</th>\n      <th>municipality</th>\n      <th>Price_mean</th>\n    </tr>\n  </thead>\n  <tbody>\n    <tr>\n      <th>1</th>\n      <td>1640</td>\n      <td>Rhode-Saint-Genèse</td>\n      <td>1682692</td>\n    </tr>\n    <tr>\n      <th>2</th>\n      <td>8300</td>\n      <td>Knokke-Heist</td>\n      <td>1373209</td>\n    </tr>\n    <tr>\n      <th>3</th>\n      <td>1950</td>\n      <td>Kraainem</td>\n      <td>1276667</td>\n    </tr>\n    <tr>\n      <th>4</th>\n      <td>3080</td>\n      <td>Tervuren</td>\n      <td>1149362</td>\n    </tr>\n    <tr>\n      <th>5</th>\n      <td>2970</td>\n      <td>'S Gravenwezel</td>\n      <td>1111000</td>\n    </tr>\n  </tbody>\n</table>\n</div>"
     },
     "execution_count": 342,
     "metadata": {},
     "output_type": "execute_result"
    }
   ],
   "source": [
    "# Most expensive mean - By price - Flanders\n",
    "top5_price_Flanders_mean = make_top_5(df_threshold_Flanders, \"municipalities\", \"Price\", \"mean\", \"top\")\n",
    "top5_price_Flanders_mean"
   ],
   "metadata": {
    "collapsed": false,
    "pycharm": {
     "name": "#%%\n"
    }
   }
  },
  {
   "cell_type": "code",
   "execution_count": 343,
   "outputs": [
    {
     "data": {
      "text/plain": "   Zip_code        municipality  Price_median\n1      1640  Rhode-Saint-Genèse       1745000\n2      8300        Knokke-Heist       1190000\n3      2000           Antwerpen        995000\n4      3140          Keerbergen        935000\n5      1560           Hoeilaart        920000",
      "text/html": "<div>\n<style scoped>\n    .dataframe tbody tr th:only-of-type {\n        vertical-align: middle;\n    }\n\n    .dataframe tbody tr th {\n        vertical-align: top;\n    }\n\n    .dataframe thead th {\n        text-align: right;\n    }\n</style>\n<table border=\"1\" class=\"dataframe\">\n  <thead>\n    <tr style=\"text-align: right;\">\n      <th></th>\n      <th>Zip_code</th>\n      <th>municipality</th>\n      <th>Price_median</th>\n    </tr>\n  </thead>\n  <tbody>\n    <tr>\n      <th>1</th>\n      <td>1640</td>\n      <td>Rhode-Saint-Genèse</td>\n      <td>1745000</td>\n    </tr>\n    <tr>\n      <th>2</th>\n      <td>8300</td>\n      <td>Knokke-Heist</td>\n      <td>1190000</td>\n    </tr>\n    <tr>\n      <th>3</th>\n      <td>2000</td>\n      <td>Antwerpen</td>\n      <td>995000</td>\n    </tr>\n    <tr>\n      <th>4</th>\n      <td>3140</td>\n      <td>Keerbergen</td>\n      <td>935000</td>\n    </tr>\n    <tr>\n      <th>5</th>\n      <td>1560</td>\n      <td>Hoeilaart</td>\n      <td>920000</td>\n    </tr>\n  </tbody>\n</table>\n</div>"
     },
     "execution_count": 343,
     "metadata": {},
     "output_type": "execute_result"
    }
   ],
   "source": [
    "# Most expensive median - By price - Flanders\n",
    "top5_price_Flanders_median = make_top_5(df_threshold_Flanders, \"municipalities\", \"Price\", \"median\", \"top\")\n",
    "top5_price_Flanders_median"
   ],
   "metadata": {
    "collapsed": false,
    "pycharm": {
     "name": "#%%\n"
    }
   }
  },
  {
   "cell_type": "code",
   "execution_count": 344,
   "outputs": [
    {
     "data": {
      "text/plain": "   Zip_code        municipality  Price_per_square_meter\n1      8300        Knokke-Heist                    5458\n2      1640  Rhode-Saint-Genèse                    3883\n3      1970     Wezembeek-Oppem                    3785\n4      3000              Leuven                    3557\n5      1950            Kraainem                    3439",
      "text/html": "<div>\n<style scoped>\n    .dataframe tbody tr th:only-of-type {\n        vertical-align: middle;\n    }\n\n    .dataframe tbody tr th {\n        vertical-align: top;\n    }\n\n    .dataframe thead th {\n        text-align: right;\n    }\n</style>\n<table border=\"1\" class=\"dataframe\">\n  <thead>\n    <tr style=\"text-align: right;\">\n      <th></th>\n      <th>Zip_code</th>\n      <th>municipality</th>\n      <th>Price_per_square_meter</th>\n    </tr>\n  </thead>\n  <tbody>\n    <tr>\n      <th>1</th>\n      <td>8300</td>\n      <td>Knokke-Heist</td>\n      <td>5458</td>\n    </tr>\n    <tr>\n      <th>2</th>\n      <td>1640</td>\n      <td>Rhode-Saint-Genèse</td>\n      <td>3883</td>\n    </tr>\n    <tr>\n      <th>3</th>\n      <td>1970</td>\n      <td>Wezembeek-Oppem</td>\n      <td>3785</td>\n    </tr>\n    <tr>\n      <th>4</th>\n      <td>3000</td>\n      <td>Leuven</td>\n      <td>3557</td>\n    </tr>\n    <tr>\n      <th>5</th>\n      <td>1950</td>\n      <td>Kraainem</td>\n      <td>3439</td>\n    </tr>\n  </tbody>\n</table>\n</div>"
     },
     "execution_count": 344,
     "metadata": {},
     "output_type": "execute_result"
    }
   ],
   "source": [
    "# Most expensive mean - By € / SQM - Flanders\n",
    "top5_sqm_Flanders_mean = make_top_5(df_threshold_Flanders, \"municipalities\", \"Price_per_square_meter\", \"mean\", \"top\")\n",
    "top5_sqm_Flanders_mean"
   ],
   "metadata": {
    "collapsed": false,
    "pycharm": {
     "name": "#%%\n"
    }
   }
  },
  {
   "cell_type": "code",
   "execution_count": 345,
   "outputs": [],
   "source": [
    "# Only Wallonia DataFrame\n",
    "df_threshold_Wallonia = df_threshold[df_threshold[\"Regions\"] == \"Wallonia\"]\n"
   ],
   "metadata": {
    "collapsed": false,
    "pycharm": {
     "name": "#%%\n"
    }
   }
  },
  {
   "cell_type": "code",
   "execution_count": 346,
   "outputs": [
    {
     "data": {
      "text/plain": "   Zip_code municipality  Price_mean\n1      1380        Lasne     1040419\n2      1410     Waterloo      994451\n3      7520    Templeuve      792500\n4      1310     La Hulpe      759292\n5      6280    Gerpinnes      743875",
      "text/html": "<div>\n<style scoped>\n    .dataframe tbody tr th:only-of-type {\n        vertical-align: middle;\n    }\n\n    .dataframe tbody tr th {\n        vertical-align: top;\n    }\n\n    .dataframe thead th {\n        text-align: right;\n    }\n</style>\n<table border=\"1\" class=\"dataframe\">\n  <thead>\n    <tr style=\"text-align: right;\">\n      <th></th>\n      <th>Zip_code</th>\n      <th>municipality</th>\n      <th>Price_mean</th>\n    </tr>\n  </thead>\n  <tbody>\n    <tr>\n      <th>1</th>\n      <td>1380</td>\n      <td>Lasne</td>\n      <td>1040419</td>\n    </tr>\n    <tr>\n      <th>2</th>\n      <td>1410</td>\n      <td>Waterloo</td>\n      <td>994451</td>\n    </tr>\n    <tr>\n      <th>3</th>\n      <td>7520</td>\n      <td>Templeuve</td>\n      <td>792500</td>\n    </tr>\n    <tr>\n      <th>4</th>\n      <td>1310</td>\n      <td>La Hulpe</td>\n      <td>759292</td>\n    </tr>\n    <tr>\n      <th>5</th>\n      <td>6280</td>\n      <td>Gerpinnes</td>\n      <td>743875</td>\n    </tr>\n  </tbody>\n</table>\n</div>"
     },
     "execution_count": 346,
     "metadata": {},
     "output_type": "execute_result"
    }
   ],
   "source": [
    "# Most expensive mean - By price - Wallonia\n",
    "top5_price_Wallonia_mean = make_top_5(df_threshold_Wallonia, \"municipalities\", \"Price\", \"mean\", \"top\")\n",
    "top5_price_Wallonia_mean"
   ],
   "metadata": {
    "collapsed": false,
    "pycharm": {
     "name": "#%%\n"
    }
   }
  },
  {
   "cell_type": "code",
   "execution_count": 347,
   "outputs": [
    {
     "data": {
      "text/plain": "   Zip_code municipality  Price_median\n1      1380        Lasne        895000\n2      7520    Templeuve        842500\n3      1410     Waterloo        820000\n4      1370     Jodoigne        589500\n5      1330    Rixensart        580000",
      "text/html": "<div>\n<style scoped>\n    .dataframe tbody tr th:only-of-type {\n        vertical-align: middle;\n    }\n\n    .dataframe tbody tr th {\n        vertical-align: top;\n    }\n\n    .dataframe thead th {\n        text-align: right;\n    }\n</style>\n<table border=\"1\" class=\"dataframe\">\n  <thead>\n    <tr style=\"text-align: right;\">\n      <th></th>\n      <th>Zip_code</th>\n      <th>municipality</th>\n      <th>Price_median</th>\n    </tr>\n  </thead>\n  <tbody>\n    <tr>\n      <th>1</th>\n      <td>1380</td>\n      <td>Lasne</td>\n      <td>895000</td>\n    </tr>\n    <tr>\n      <th>2</th>\n      <td>7520</td>\n      <td>Templeuve</td>\n      <td>842500</td>\n    </tr>\n    <tr>\n      <th>3</th>\n      <td>1410</td>\n      <td>Waterloo</td>\n      <td>820000</td>\n    </tr>\n    <tr>\n      <th>4</th>\n      <td>1370</td>\n      <td>Jodoigne</td>\n      <td>589500</td>\n    </tr>\n    <tr>\n      <th>5</th>\n      <td>1330</td>\n      <td>Rixensart</td>\n      <td>580000</td>\n    </tr>\n  </tbody>\n</table>\n</div>"
     },
     "execution_count": 347,
     "metadata": {},
     "output_type": "execute_result"
    }
   ],
   "source": [
    "# Most expensive median - By price - Wallonia\n",
    "top5_price_Wallonia_median = make_top_5(df_threshold_Wallonia, \"municipalities\", \"Price\", \"median\", \"top\")\n",
    "top5_price_Wallonia_median"
   ],
   "metadata": {
    "collapsed": false,
    "pycharm": {
     "name": "#%%\n"
    }
   }
  },
  {
   "cell_type": "code",
   "execution_count": 348,
   "outputs": [
    {
     "data": {
      "text/plain": "   Zip_code                municipality  Price_per_square_meter\n1      1380                       Lasne                    3170\n2      1410                    Waterloo                    3053\n3      1330                   Rixensart                    2951\n4      1440           Braine-Le-Château                    2665\n5      1340  Ottignies-Louvain-La-Neuve                    2650",
      "text/html": "<div>\n<style scoped>\n    .dataframe tbody tr th:only-of-type {\n        vertical-align: middle;\n    }\n\n    .dataframe tbody tr th {\n        vertical-align: top;\n    }\n\n    .dataframe thead th {\n        text-align: right;\n    }\n</style>\n<table border=\"1\" class=\"dataframe\">\n  <thead>\n    <tr style=\"text-align: right;\">\n      <th></th>\n      <th>Zip_code</th>\n      <th>municipality</th>\n      <th>Price_per_square_meter</th>\n    </tr>\n  </thead>\n  <tbody>\n    <tr>\n      <th>1</th>\n      <td>1380</td>\n      <td>Lasne</td>\n      <td>3170</td>\n    </tr>\n    <tr>\n      <th>2</th>\n      <td>1410</td>\n      <td>Waterloo</td>\n      <td>3053</td>\n    </tr>\n    <tr>\n      <th>3</th>\n      <td>1330</td>\n      <td>Rixensart</td>\n      <td>2951</td>\n    </tr>\n    <tr>\n      <th>4</th>\n      <td>1440</td>\n      <td>Braine-Le-Château</td>\n      <td>2665</td>\n    </tr>\n    <tr>\n      <th>5</th>\n      <td>1340</td>\n      <td>Ottignies-Louvain-La-Neuve</td>\n      <td>2650</td>\n    </tr>\n  </tbody>\n</table>\n</div>"
     },
     "execution_count": 348,
     "metadata": {},
     "output_type": "execute_result"
    }
   ],
   "source": [
    "# Most expensive mean - By € / SQM - Wallonia\n",
    "top5_sqm_Wallonia_mean = make_top_5(df_threshold_Wallonia, \"municipalities\", \"Price_per_square_meter\", \"mean\", \"top\")\n",
    "top5_sqm_Wallonia_mean\n"
   ],
   "metadata": {
    "collapsed": false,
    "pycharm": {
     "name": "#%%\n"
    }
   }
  },
  {
   "cell_type": "code",
   "execution_count": 349,
   "outputs": [
    {
     "data": {
      "text/plain": "   Zip_code  municipality  Price_mean\n1      6020      Dampremy      129800\n2      7340   Colfontaine      130429\n3      7390     Quaregnon      138768\n4      6200   Châtelineau      149582\n5      6870  Saint-Hubert      152250",
      "text/html": "<div>\n<style scoped>\n    .dataframe tbody tr th:only-of-type {\n        vertical-align: middle;\n    }\n\n    .dataframe tbody tr th {\n        vertical-align: top;\n    }\n\n    .dataframe thead th {\n        text-align: right;\n    }\n</style>\n<table border=\"1\" class=\"dataframe\">\n  <thead>\n    <tr style=\"text-align: right;\">\n      <th></th>\n      <th>Zip_code</th>\n      <th>municipality</th>\n      <th>Price_mean</th>\n    </tr>\n  </thead>\n  <tbody>\n    <tr>\n      <th>1</th>\n      <td>6020</td>\n      <td>Dampremy</td>\n      <td>129800</td>\n    </tr>\n    <tr>\n      <th>2</th>\n      <td>7340</td>\n      <td>Colfontaine</td>\n      <td>130429</td>\n    </tr>\n    <tr>\n      <th>3</th>\n      <td>7390</td>\n      <td>Quaregnon</td>\n      <td>138768</td>\n    </tr>\n    <tr>\n      <th>4</th>\n      <td>6200</td>\n      <td>Châtelineau</td>\n      <td>149582</td>\n    </tr>\n    <tr>\n      <th>5</th>\n      <td>6870</td>\n      <td>Saint-Hubert</td>\n      <td>152250</td>\n    </tr>\n  </tbody>\n</table>\n</div>"
     },
     "execution_count": 349,
     "metadata": {},
     "output_type": "execute_result"
    }
   ],
   "source": [
    "# Least expensive mean - By price - Belgium\n",
    "low5_price_Belgium_mean = make_top_5(df_threshold, \"municipalities\", \"Price\", \"mean\", \"bottom\")\n",
    "low5_price_Belgium_mean"
   ],
   "metadata": {
    "collapsed": false,
    "pycharm": {
     "name": "#%%\n"
    }
   }
  },
  {
   "cell_type": "code",
   "execution_count": 350,
   "outputs": [
    {
     "data": {
      "text/plain": "   Zip_code  municipality  Price_median\n1      6020      Dampremy        109950\n2      7340   Colfontaine        110000\n3      6870  Saint-Hubert        122500\n4      7390     Quaregnon        124500\n5      7370          Dour        141250",
      "text/html": "<div>\n<style scoped>\n    .dataframe tbody tr th:only-of-type {\n        vertical-align: middle;\n    }\n\n    .dataframe tbody tr th {\n        vertical-align: top;\n    }\n\n    .dataframe thead th {\n        text-align: right;\n    }\n</style>\n<table border=\"1\" class=\"dataframe\">\n  <thead>\n    <tr style=\"text-align: right;\">\n      <th></th>\n      <th>Zip_code</th>\n      <th>municipality</th>\n      <th>Price_median</th>\n    </tr>\n  </thead>\n  <tbody>\n    <tr>\n      <th>1</th>\n      <td>6020</td>\n      <td>Dampremy</td>\n      <td>109950</td>\n    </tr>\n    <tr>\n      <th>2</th>\n      <td>7340</td>\n      <td>Colfontaine</td>\n      <td>110000</td>\n    </tr>\n    <tr>\n      <th>3</th>\n      <td>6870</td>\n      <td>Saint-Hubert</td>\n      <td>122500</td>\n    </tr>\n    <tr>\n      <th>4</th>\n      <td>7390</td>\n      <td>Quaregnon</td>\n      <td>124500</td>\n    </tr>\n    <tr>\n      <th>5</th>\n      <td>7370</td>\n      <td>Dour</td>\n      <td>141250</td>\n    </tr>\n  </tbody>\n</table>\n</div>"
     },
     "execution_count": 350,
     "metadata": {},
     "output_type": "execute_result"
    }
   ],
   "source": [
    "# Least expensive median - By price - Belgium\n",
    "low5_price_Belgium_median = make_top_5(df_threshold, \"municipalities\", \"Price\", \"median\", \"bottom\")\n",
    "low5_price_Belgium_median"
   ],
   "metadata": {
    "collapsed": false,
    "pycharm": {
     "name": "#%%\n"
    }
   }
  },
  {
   "cell_type": "code",
   "execution_count": 351,
   "outputs": [
    {
     "data": {
      "text/plain": "   Zip_code  municipality  Price_per_square_meter\n1      6020      Dampremy                     733\n2      6870  Saint-Hubert                     802\n3      6590     Momignies                     868\n4      7370          Dour                     872\n5      6690      Vielsalm                     877",
      "text/html": "<div>\n<style scoped>\n    .dataframe tbody tr th:only-of-type {\n        vertical-align: middle;\n    }\n\n    .dataframe tbody tr th {\n        vertical-align: top;\n    }\n\n    .dataframe thead th {\n        text-align: right;\n    }\n</style>\n<table border=\"1\" class=\"dataframe\">\n  <thead>\n    <tr style=\"text-align: right;\">\n      <th></th>\n      <th>Zip_code</th>\n      <th>municipality</th>\n      <th>Price_per_square_meter</th>\n    </tr>\n  </thead>\n  <tbody>\n    <tr>\n      <th>1</th>\n      <td>6020</td>\n      <td>Dampremy</td>\n      <td>733</td>\n    </tr>\n    <tr>\n      <th>2</th>\n      <td>6870</td>\n      <td>Saint-Hubert</td>\n      <td>802</td>\n    </tr>\n    <tr>\n      <th>3</th>\n      <td>6590</td>\n      <td>Momignies</td>\n      <td>868</td>\n    </tr>\n    <tr>\n      <th>4</th>\n      <td>7370</td>\n      <td>Dour</td>\n      <td>872</td>\n    </tr>\n    <tr>\n      <th>5</th>\n      <td>6690</td>\n      <td>Vielsalm</td>\n      <td>877</td>\n    </tr>\n  </tbody>\n</table>\n</div>"
     },
     "execution_count": 351,
     "metadata": {},
     "output_type": "execute_result"
    }
   ],
   "source": [
    "# Least expensive mean - By € / SQM - Belgium\n",
    "low5_sqm_Belgium_mean = make_top_5(df_threshold, \"municipalities\", \"Price_per_square_meter\", \"mean\", \"bottom\")\n",
    "low5_sqm_Belgium_mean"
   ],
   "metadata": {
    "collapsed": false,
    "pycharm": {
     "name": "#%%\n"
    }
   }
  },
  {
   "cell_type": "code",
   "execution_count": 352,
   "outputs": [
    {
     "data": {
      "text/plain": "   Zip_code municipality  Price_mean\n1      8950   Heuvelland      224167\n2      3640      Kinrooi      238889\n3      8520       Kuurne      246125\n4      8650    Houthulst      249896\n5      8920    Langemark      259488",
      "text/html": "<div>\n<style scoped>\n    .dataframe tbody tr th:only-of-type {\n        vertical-align: middle;\n    }\n\n    .dataframe tbody tr th {\n        vertical-align: top;\n    }\n\n    .dataframe thead th {\n        text-align: right;\n    }\n</style>\n<table border=\"1\" class=\"dataframe\">\n  <thead>\n    <tr style=\"text-align: right;\">\n      <th></th>\n      <th>Zip_code</th>\n      <th>municipality</th>\n      <th>Price_mean</th>\n    </tr>\n  </thead>\n  <tbody>\n    <tr>\n      <th>1</th>\n      <td>8950</td>\n      <td>Heuvelland</td>\n      <td>224167</td>\n    </tr>\n    <tr>\n      <th>2</th>\n      <td>3640</td>\n      <td>Kinrooi</td>\n      <td>238889</td>\n    </tr>\n    <tr>\n      <th>3</th>\n      <td>8520</td>\n      <td>Kuurne</td>\n      <td>246125</td>\n    </tr>\n    <tr>\n      <th>4</th>\n      <td>8650</td>\n      <td>Houthulst</td>\n      <td>249896</td>\n    </tr>\n    <tr>\n      <th>5</th>\n      <td>8920</td>\n      <td>Langemark</td>\n      <td>259488</td>\n    </tr>\n  </tbody>\n</table>\n</div>"
     },
     "execution_count": 352,
     "metadata": {},
     "output_type": "execute_result"
    }
   ],
   "source": [
    "# Least expensive mean - By price - Flanders\n",
    "low5_price_Flanders_mean = make_top_5(df_threshold_Flanders, \"municipalities\", \"Price\", \"mean\", \"bottom\")\n",
    "low5_price_Flanders_mean"
   ],
   "metadata": {
    "collapsed": false,
    "pycharm": {
     "name": "#%%\n"
    }
   }
  },
  {
   "cell_type": "code",
   "execution_count": 353,
   "outputs": [
    {
     "data": {
      "text/plain": "   Zip_code municipality  Price_median\n1      8950   Heuvelland        224500\n2      8650    Houthulst        232000\n3      2660      Hoboken        239000\n4      8580      Avelgem        239500\n5      3640      Kinrooi        241000",
      "text/html": "<div>\n<style scoped>\n    .dataframe tbody tr th:only-of-type {\n        vertical-align: middle;\n    }\n\n    .dataframe tbody tr th {\n        vertical-align: top;\n    }\n\n    .dataframe thead th {\n        text-align: right;\n    }\n</style>\n<table border=\"1\" class=\"dataframe\">\n  <thead>\n    <tr style=\"text-align: right;\">\n      <th></th>\n      <th>Zip_code</th>\n      <th>municipality</th>\n      <th>Price_median</th>\n    </tr>\n  </thead>\n  <tbody>\n    <tr>\n      <th>1</th>\n      <td>8950</td>\n      <td>Heuvelland</td>\n      <td>224500</td>\n    </tr>\n    <tr>\n      <th>2</th>\n      <td>8650</td>\n      <td>Houthulst</td>\n      <td>232000</td>\n    </tr>\n    <tr>\n      <th>3</th>\n      <td>2660</td>\n      <td>Hoboken</td>\n      <td>239000</td>\n    </tr>\n    <tr>\n      <th>4</th>\n      <td>8580</td>\n      <td>Avelgem</td>\n      <td>239500</td>\n    </tr>\n    <tr>\n      <th>5</th>\n      <td>3640</td>\n      <td>Kinrooi</td>\n      <td>241000</td>\n    </tr>\n  </tbody>\n</table>\n</div>"
     },
     "execution_count": 353,
     "metadata": {},
     "output_type": "execute_result"
    }
   ],
   "source": [
    "# Least expensive median - By price - Flanders\n",
    "low5_price_Flanders_median = make_top_5(df_threshold_Flanders, \"municipalities\", \"Price\", \"median\", \"bottom\")\n",
    "low5_price_Flanders_median"
   ],
   "metadata": {
    "collapsed": false,
    "pycharm": {
     "name": "#%%\n"
    }
   }
  },
  {
   "cell_type": "code",
   "execution_count": 354,
   "outputs": [
    {
     "data": {
      "text/plain": "   Zip_code municipality  Price_per_square_meter\n1      8880      Ledegem                    1304\n2      8920    Langemark                    1319\n3      3640      Kinrooi                    1366\n4      8650    Houthulst                    1422\n5      8580      Avelgem                    1454",
      "text/html": "<div>\n<style scoped>\n    .dataframe tbody tr th:only-of-type {\n        vertical-align: middle;\n    }\n\n    .dataframe tbody tr th {\n        vertical-align: top;\n    }\n\n    .dataframe thead th {\n        text-align: right;\n    }\n</style>\n<table border=\"1\" class=\"dataframe\">\n  <thead>\n    <tr style=\"text-align: right;\">\n      <th></th>\n      <th>Zip_code</th>\n      <th>municipality</th>\n      <th>Price_per_square_meter</th>\n    </tr>\n  </thead>\n  <tbody>\n    <tr>\n      <th>1</th>\n      <td>8880</td>\n      <td>Ledegem</td>\n      <td>1304</td>\n    </tr>\n    <tr>\n      <th>2</th>\n      <td>8920</td>\n      <td>Langemark</td>\n      <td>1319</td>\n    </tr>\n    <tr>\n      <th>3</th>\n      <td>3640</td>\n      <td>Kinrooi</td>\n      <td>1366</td>\n    </tr>\n    <tr>\n      <th>4</th>\n      <td>8650</td>\n      <td>Houthulst</td>\n      <td>1422</td>\n    </tr>\n    <tr>\n      <th>5</th>\n      <td>8580</td>\n      <td>Avelgem</td>\n      <td>1454</td>\n    </tr>\n  </tbody>\n</table>\n</div>"
     },
     "execution_count": 354,
     "metadata": {},
     "output_type": "execute_result"
    }
   ],
   "source": [
    "# Least expensive mean - By € / SQM - Flanders\n",
    "low5_sqm_Flanders_mean = make_top_5(df_threshold_Flanders, \"municipalities\", \"Price_per_square_meter\", \"mean\", \"bottom\")\n",
    "low5_sqm_Flanders_mean"
   ],
   "metadata": {
    "collapsed": false,
    "pycharm": {
     "name": "#%%\n"
    }
   }
  },
  {
   "cell_type": "code",
   "execution_count": 355,
   "outputs": [
    {
     "data": {
      "text/plain": "   Zip_code  municipality  Price_mean\n1      6020      Dampremy      129800\n2      7340   Colfontaine      130429\n3      7390     Quaregnon      138768\n4      6200   Châtelineau      149582\n5      6870  Saint-Hubert      152250",
      "text/html": "<div>\n<style scoped>\n    .dataframe tbody tr th:only-of-type {\n        vertical-align: middle;\n    }\n\n    .dataframe tbody tr th {\n        vertical-align: top;\n    }\n\n    .dataframe thead th {\n        text-align: right;\n    }\n</style>\n<table border=\"1\" class=\"dataframe\">\n  <thead>\n    <tr style=\"text-align: right;\">\n      <th></th>\n      <th>Zip_code</th>\n      <th>municipality</th>\n      <th>Price_mean</th>\n    </tr>\n  </thead>\n  <tbody>\n    <tr>\n      <th>1</th>\n      <td>6020</td>\n      <td>Dampremy</td>\n      <td>129800</td>\n    </tr>\n    <tr>\n      <th>2</th>\n      <td>7340</td>\n      <td>Colfontaine</td>\n      <td>130429</td>\n    </tr>\n    <tr>\n      <th>3</th>\n      <td>7390</td>\n      <td>Quaregnon</td>\n      <td>138768</td>\n    </tr>\n    <tr>\n      <th>4</th>\n      <td>6200</td>\n      <td>Châtelineau</td>\n      <td>149582</td>\n    </tr>\n    <tr>\n      <th>5</th>\n      <td>6870</td>\n      <td>Saint-Hubert</td>\n      <td>152250</td>\n    </tr>\n  </tbody>\n</table>\n</div>"
     },
     "execution_count": 355,
     "metadata": {},
     "output_type": "execute_result"
    }
   ],
   "source": [
    "# Least expensive mean - By price - Wallonia\n",
    "low5_price_Wallonia_mean = make_top_5(df_threshold_Wallonia, \"municipalities\", \"Price\", \"mean\", \"bottom\")\n",
    "low5_price_Wallonia_mean"
   ],
   "metadata": {
    "collapsed": false,
    "pycharm": {
     "name": "#%%\n"
    }
   }
  },
  {
   "cell_type": "code",
   "execution_count": 356,
   "outputs": [
    {
     "data": {
      "text/plain": "   Zip_code  municipality  Price_median\n1      6020      Dampremy        109950\n2      7340   Colfontaine        110000\n3      6870  Saint-Hubert        122500\n4      7390     Quaregnon        124500\n5      7370          Dour        141250",
      "text/html": "<div>\n<style scoped>\n    .dataframe tbody tr th:only-of-type {\n        vertical-align: middle;\n    }\n\n    .dataframe tbody tr th {\n        vertical-align: top;\n    }\n\n    .dataframe thead th {\n        text-align: right;\n    }\n</style>\n<table border=\"1\" class=\"dataframe\">\n  <thead>\n    <tr style=\"text-align: right;\">\n      <th></th>\n      <th>Zip_code</th>\n      <th>municipality</th>\n      <th>Price_median</th>\n    </tr>\n  </thead>\n  <tbody>\n    <tr>\n      <th>1</th>\n      <td>6020</td>\n      <td>Dampremy</td>\n      <td>109950</td>\n    </tr>\n    <tr>\n      <th>2</th>\n      <td>7340</td>\n      <td>Colfontaine</td>\n      <td>110000</td>\n    </tr>\n    <tr>\n      <th>3</th>\n      <td>6870</td>\n      <td>Saint-Hubert</td>\n      <td>122500</td>\n    </tr>\n    <tr>\n      <th>4</th>\n      <td>7390</td>\n      <td>Quaregnon</td>\n      <td>124500</td>\n    </tr>\n    <tr>\n      <th>5</th>\n      <td>7370</td>\n      <td>Dour</td>\n      <td>141250</td>\n    </tr>\n  </tbody>\n</table>\n</div>"
     },
     "execution_count": 356,
     "metadata": {},
     "output_type": "execute_result"
    }
   ],
   "source": [
    "# Least expensive median - By price - Wallonia\n",
    "low5_price_Wallonia_median = make_top_5(df_threshold_Wallonia, \"municipalities\", \"Price\", \"median\", \"bottom\")\n",
    "low5_price_Wallonia_median"
   ],
   "metadata": {
    "collapsed": false,
    "pycharm": {
     "name": "#%%\n"
    }
   }
  },
  {
   "cell_type": "code",
   "execution_count": 357,
   "outputs": [
    {
     "data": {
      "text/plain": "   Zip_code  municipality  Price_per_square_meter\n1      6020      Dampremy                     733\n2      6870  Saint-Hubert                     802\n3      6590     Momignies                     868\n4      7370          Dour                     872\n5      6690      Vielsalm                     877",
      "text/html": "<div>\n<style scoped>\n    .dataframe tbody tr th:only-of-type {\n        vertical-align: middle;\n    }\n\n    .dataframe tbody tr th {\n        vertical-align: top;\n    }\n\n    .dataframe thead th {\n        text-align: right;\n    }\n</style>\n<table border=\"1\" class=\"dataframe\">\n  <thead>\n    <tr style=\"text-align: right;\">\n      <th></th>\n      <th>Zip_code</th>\n      <th>municipality</th>\n      <th>Price_per_square_meter</th>\n    </tr>\n  </thead>\n  <tbody>\n    <tr>\n      <th>1</th>\n      <td>6020</td>\n      <td>Dampremy</td>\n      <td>733</td>\n    </tr>\n    <tr>\n      <th>2</th>\n      <td>6870</td>\n      <td>Saint-Hubert</td>\n      <td>802</td>\n    </tr>\n    <tr>\n      <th>3</th>\n      <td>6590</td>\n      <td>Momignies</td>\n      <td>868</td>\n    </tr>\n    <tr>\n      <th>4</th>\n      <td>7370</td>\n      <td>Dour</td>\n      <td>872</td>\n    </tr>\n    <tr>\n      <th>5</th>\n      <td>6690</td>\n      <td>Vielsalm</td>\n      <td>877</td>\n    </tr>\n  </tbody>\n</table>\n</div>"
     },
     "execution_count": 357,
     "metadata": {},
     "output_type": "execute_result"
    }
   ],
   "source": [
    "# Least expensive mean - By € / SQM - Wallonia\n",
    "low5_sqm_Wallonia_mean = make_top_5(df_threshold_Wallonia, \"municipalities\", \"Price_per_square_meter\", \"mean\", \"bottom\")\n",
    "low5_sqm_Wallonia_mean"
   ],
   "metadata": {
    "collapsed": false,
    "pycharm": {
     "name": "#%%\n"
    }
   }
  },
  {
   "cell_type": "code",
   "execution_count": 357,
   "outputs": [],
   "source": [],
   "metadata": {
    "collapsed": false,
    "pycharm": {
     "name": "#%%\n"
    }
   }
  },
  {
   "cell_type": "code",
   "execution_count": 357,
   "outputs": [],
   "source": [],
   "metadata": {
    "collapsed": false,
    "pycharm": {
     "name": "#%%\n"
    }
   }
  },
  {
   "cell_type": "code",
   "execution_count": 357,
   "outputs": [],
   "source": [],
   "metadata": {
    "collapsed": false,
    "pycharm": {
     "name": "#%%\n"
    }
   }
  },
  {
   "cell_type": "code",
   "execution_count": 357,
   "outputs": [],
   "source": [],
   "metadata": {
    "collapsed": false,
    "pycharm": {
     "name": "#%%\n"
    }
   }
  }
 ],
 "metadata": {
  "kernelspec": {
   "name": "pycharm-c0017d1f",
   "language": "python",
   "display_name": "PyCharm (matplotlib)"
  },
  "language_info": {
   "codemirror_mode": {
    "name": "ipython",
    "version": 3
   },
   "file_extension": ".py",
   "mimetype": "text/x-python",
   "name": "python",
   "nbconvert_exporter": "python",
   "pygments_lexer": "ipython3",
   "version": "3.9.5"
  }
 },
 "nbformat": 4,
 "nbformat_minor": 5
}