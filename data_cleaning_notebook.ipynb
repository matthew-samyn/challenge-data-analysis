{
 "cells": [
  {
   "cell_type": "code",
   "execution_count": 1,
   "id": "25d5a213",
   "metadata": {},
   "outputs": [],
   "source": [
    "import pandas as pd\n",
    "import matplotlib.pyplot as plt\n",
    "import seaborn as sns"
   ]
  },
  {
   "cell_type": "code",
   "execution_count": 2,
   "id": "b95b8b08",
   "metadata": {},
   "outputs": [],
   "source": [
    "df_origin = pd.read_csv('final_list_houses_dataset.csv')"
   ]
  },
  {
   "cell_type": "code",
   "execution_count": 3,
   "id": "0355d2f5",
   "metadata": {},
   "outputs": [],
   "source": [
    "df = df_origin.copy()"
   ]
  },
  {
   "cell_type": "code",
   "execution_count": 4,
   "id": "f9bb9174",
   "metadata": {},
   "outputs": [
    {
     "data": {
      "text/html": [
       "<div>\n",
       "<style scoped>\n",
       "    .dataframe tbody tr th:only-of-type {\n",
       "        vertical-align: middle;\n",
       "    }\n",
       "\n",
       "    .dataframe tbody tr th {\n",
       "        vertical-align: top;\n",
       "    }\n",
       "\n",
       "    .dataframe thead th {\n",
       "        text-align: right;\n",
       "    }\n",
       "</style>\n",
       "<table border=\"1\" class=\"dataframe\">\n",
       "  <thead>\n",
       "    <tr style=\"text-align: right;\">\n",
       "      <th></th>\n",
       "      <th>Unnamed: 0</th>\n",
       "      <th>Area [m²]</th>\n",
       "      <th>Price [€]</th>\n",
       "      <th>state of the building</th>\n",
       "      <th>number of facades</th>\n",
       "      <th>number of bedrooms</th>\n",
       "      <th>fully equipped kitchen</th>\n",
       "      <th>furnished</th>\n",
       "      <th>open fire</th>\n",
       "      <th>locality [zip code]</th>\n",
       "      <th>surface of the land [m²]</th>\n",
       "      <th>terrace</th>\n",
       "      <th>terrace surface [m²]</th>\n",
       "      <th>swimming pool</th>\n",
       "      <th>type of property</th>\n",
       "      <th>subtype of property</th>\n",
       "      <th>garden</th>\n",
       "      <th>garden surface [m²]</th>\n",
       "    </tr>\n",
       "  </thead>\n",
       "  <tbody>\n",
       "    <tr>\n",
       "      <th>0</th>\n",
       "      <td>0</td>\n",
       "      <td>123.0</td>\n",
       "      <td>200000</td>\n",
       "      <td>good</td>\n",
       "      <td>3.0</td>\n",
       "      <td>2.0</td>\n",
       "      <td>installed</td>\n",
       "      <td>no</td>\n",
       "      <td>NaN</td>\n",
       "      <td>3294</td>\n",
       "      <td>429.0</td>\n",
       "      <td>0</td>\n",
       "      <td>0</td>\n",
       "      <td>NaN</td>\n",
       "      <td>house</td>\n",
       "      <td>house</td>\n",
       "      <td>1</td>\n",
       "      <td>350</td>\n",
       "    </tr>\n",
       "    <tr>\n",
       "      <th>1</th>\n",
       "      <td>3</td>\n",
       "      <td>255.0</td>\n",
       "      <td>698000</td>\n",
       "      <td>just renovated</td>\n",
       "      <td>4.0</td>\n",
       "      <td>4.0</td>\n",
       "      <td>installed</td>\n",
       "      <td>no</td>\n",
       "      <td>NaN</td>\n",
       "      <td>2070</td>\n",
       "      <td>1210.0</td>\n",
       "      <td>0</td>\n",
       "      <td>0</td>\n",
       "      <td>NaN</td>\n",
       "      <td>house</td>\n",
       "      <td>villa</td>\n",
       "      <td>0</td>\n",
       "      <td>0</td>\n",
       "    </tr>\n",
       "    <tr>\n",
       "      <th>2</th>\n",
       "      <td>4</td>\n",
       "      <td>234.0</td>\n",
       "      <td>499000</td>\n",
       "      <td>as new</td>\n",
       "      <td>NaN</td>\n",
       "      <td>5.0</td>\n",
       "      <td>NaN</td>\n",
       "      <td>NaN</td>\n",
       "      <td>NaN</td>\n",
       "      <td>8800</td>\n",
       "      <td>744.0</td>\n",
       "      <td>0</td>\n",
       "      <td>0</td>\n",
       "      <td>NaN</td>\n",
       "      <td>house</td>\n",
       "      <td>villa</td>\n",
       "      <td>0</td>\n",
       "      <td>0</td>\n",
       "    </tr>\n",
       "    <tr>\n",
       "      <th>3</th>\n",
       "      <td>5</td>\n",
       "      <td>219.0</td>\n",
       "      <td>717000</td>\n",
       "      <td>as new</td>\n",
       "      <td>NaN</td>\n",
       "      <td>4.0</td>\n",
       "      <td>NaN</td>\n",
       "      <td>no</td>\n",
       "      <td>NaN</td>\n",
       "      <td>8000</td>\n",
       "      <td>760.0</td>\n",
       "      <td>0</td>\n",
       "      <td>0</td>\n",
       "      <td>NaN</td>\n",
       "      <td>house</td>\n",
       "      <td>house</td>\n",
       "      <td>0</td>\n",
       "      <td>0</td>\n",
       "    </tr>\n",
       "    <tr>\n",
       "      <th>4</th>\n",
       "      <td>6</td>\n",
       "      <td>156.0</td>\n",
       "      <td>429000</td>\n",
       "      <td>good</td>\n",
       "      <td>4.0</td>\n",
       "      <td>4.0</td>\n",
       "      <td>installed</td>\n",
       "      <td>no</td>\n",
       "      <td>NaN</td>\n",
       "      <td>8800</td>\n",
       "      <td>419.0</td>\n",
       "      <td>0</td>\n",
       "      <td>0</td>\n",
       "      <td>NaN</td>\n",
       "      <td>house</td>\n",
       "      <td>villa</td>\n",
       "      <td>1</td>\n",
       "      <td>90</td>\n",
       "    </tr>\n",
       "  </tbody>\n",
       "</table>\n",
       "</div>"
      ],
      "text/plain": [
       "   Unnamed: 0  Area [m²] Price [€] state of the building  number of facades  \\\n",
       "0           0      123.0    200000                  good                3.0   \n",
       "1           3      255.0    698000        just renovated                4.0   \n",
       "2           4      234.0    499000                as new                NaN   \n",
       "3           5      219.0    717000                as new                NaN   \n",
       "4           6      156.0    429000                  good                4.0   \n",
       "\n",
       "   number of bedrooms fully equipped kitchen furnished  open fire  \\\n",
       "0                 2.0              installed        no        NaN   \n",
       "1                 4.0              installed        no        NaN   \n",
       "2                 5.0                    NaN       NaN        NaN   \n",
       "3                 4.0                    NaN        no        NaN   \n",
       "4                 4.0              installed        no        NaN   \n",
       "\n",
       "   locality [zip code]  surface of the land [m²]  terrace  \\\n",
       "0                 3294                     429.0        0   \n",
       "1                 2070                    1210.0        0   \n",
       "2                 8800                     744.0        0   \n",
       "3                 8000                     760.0        0   \n",
       "4                 8800                     419.0        0   \n",
       "\n",
       "   terrace surface [m²] swimming pool type of property subtype of property  \\\n",
       "0                     0           NaN            house               house   \n",
       "1                     0           NaN            house               villa   \n",
       "2                     0           NaN            house               villa   \n",
       "3                     0           NaN            house               house   \n",
       "4                     0           NaN            house               villa   \n",
       "\n",
       "   garden  garden surface [m²]  \n",
       "0       1                  350  \n",
       "1       0                    0  \n",
       "2       0                    0  \n",
       "3       0                    0  \n",
       "4       1                   90  "
      ]
     },
     "execution_count": 4,
     "metadata": {},
     "output_type": "execute_result"
    }
   ],
   "source": [
    "df.head()"
   ]
  },
  {
   "cell_type": "code",
   "execution_count": 5,
   "id": "ace40135",
   "metadata": {},
   "outputs": [],
   "source": [
    "del df['Unnamed: 0']"
   ]
  },
  {
   "cell_type": "code",
   "execution_count": 6,
   "id": "d1d8e6e2",
   "metadata": {},
   "outputs": [],
   "source": [
    "df = df.dropna(subset=['Area [m²]'])"
   ]
  },
  {
   "cell_type": "code",
   "execution_count": 7,
   "id": "a231c627",
   "metadata": {},
   "outputs": [],
   "source": [
    "df.columns = ['area','price','state_of_building','facades','bedrooms','fully_equipped_kitchen','furnished','open_fire','zip_code','land_surface', 'terrace','terrace_surface', 'swimming_pool', 'type_property','subtype_property', 'garden', 'garden_surface']"
   ]
  },
  {
   "cell_type": "code",
   "execution_count": 8,
   "id": "862d1d86",
   "metadata": {},
   "outputs": [],
   "source": [
    "df = df.reset_index(drop=True)"
   ]
  },
  {
   "cell_type": "code",
   "execution_count": 9,
   "id": "bcdda75e",
   "metadata": {},
   "outputs": [
    {
     "name": "stdout",
     "output_type": "stream",
     "text": [
      "<class 'pandas.core.frame.DataFrame'>\n",
      "RangeIndex: 8356 entries, 0 to 8355\n",
      "Data columns (total 17 columns):\n",
      " #   Column                  Non-Null Count  Dtype  \n",
      "---  ------                  --------------  -----  \n",
      " 0   area                    8356 non-null   float64\n",
      " 1   price                   8356 non-null   object \n",
      " 2   state_of_building       6204 non-null   object \n",
      " 3   facades                 6666 non-null   float64\n",
      " 4   bedrooms                8292 non-null   float64\n",
      " 5   fully_equipped_kitchen  5939 non-null   object \n",
      " 6   furnished               6265 non-null   object \n",
      " 7   open_fire               703 non-null    float64\n",
      " 8   zip_code                8356 non-null   int64  \n",
      " 9   land_surface            8356 non-null   float64\n",
      " 10  terrace                 8356 non-null   int64  \n",
      " 11  terrace_surface         8356 non-null   int64  \n",
      " 12  swimming_pool           382 non-null    object \n",
      " 13  type_property           8356 non-null   object \n",
      " 14  subtype_property        8356 non-null   object \n",
      " 15  garden                  8356 non-null   int64  \n",
      " 16  garden_surface          8356 non-null   int64  \n",
      "dtypes: float64(5), int64(5), object(7)\n",
      "memory usage: 1.1+ MB\n"
     ]
    }
   ],
   "source": [
    "df.info()"
   ]
  },
  {
   "cell_type": "code",
   "execution_count": 10,
   "id": "75b58e4a",
   "metadata": {},
   "outputs": [],
   "source": [
    "def change_state_building(x):\n",
    "    if x in ['to renovate','to be done up','to restore']:\n",
    "        return 'to be done up'\n",
    "    else:\n",
    "        return x"
   ]
  },
  {
   "cell_type": "code",
   "execution_count": 11,
   "id": "1b6385c0",
   "metadata": {},
   "outputs": [],
   "source": [
    "df['state_of_building'] = df['state_of_building'].apply(lambda x: change_state_building(x))"
   ]
  },
  {
   "cell_type": "code",
   "execution_count": 12,
   "id": "5bda4bff",
   "metadata": {},
   "outputs": [],
   "source": [
    "def change_kitchen_type(x):\n",
    "    if x in ['installed','usa installed']:\n",
    "        return 'installed'\n",
    "    elif x in ['hyper equipped','usa hyper equipped']:\n",
    "        return 'hyper equipped'\n",
    "    elif x in ['semi equipped','usa semi equipped']:\n",
    "        return 'semi equipped'\n",
    "    elif x in ['not installed','usa uninstalled']:\n",
    "        return 'not installed'"
   ]
  },
  {
   "cell_type": "code",
   "execution_count": 13,
   "id": "0cc96d9f",
   "metadata": {},
   "outputs": [],
   "source": [
    "df['fully_equipped_kitchen'] = df['fully_equipped_kitchen'].apply(lambda x: change_kitchen_type(x))"
   ]
  },
  {
   "cell_type": "code",
   "execution_count": 14,
   "id": "5dd46d72",
   "metadata": {},
   "outputs": [],
   "source": [
    "def change_furnished(x):\n",
    "    if x == 'yes':\n",
    "        return 'yes'\n",
    "    elif x == 'no':\n",
    "        return 'no'\n",
    "    else:\n",
    "        return 'no'"
   ]
  },
  {
   "cell_type": "code",
   "execution_count": 15,
   "id": "e3e1e12e",
   "metadata": {},
   "outputs": [],
   "source": [
    "df['furnished'] = df['furnished'].apply(lambda x: change_furnished(x))"
   ]
  },
  {
   "cell_type": "code",
   "execution_count": 16,
   "id": "d48a0b3e",
   "metadata": {},
   "outputs": [
    {
     "name": "stdout",
     "output_type": "stream",
     "text": [
      "0    5507\n",
      "1    2849\n",
      "Name: garden, dtype: int64\n"
     ]
    }
   ],
   "source": [
    "print(df['garden'].value_counts())"
   ]
  },
  {
   "cell_type": "code",
   "execution_count": 18,
   "id": "e2336e1f",
   "metadata": {},
   "outputs": [],
   "source": [
    "def change_open_fire(x):\n",
    "    if x is None:\n",
    "        return 'no'\n",
    "    else:\n",
    "        return 'yes'"
   ]
  },
  {
   "cell_type": "code",
   "execution_count": 19,
   "id": "444b85fa",
   "metadata": {},
   "outputs": [],
   "source": [
    "df['open_fire_YN'] = df['open_fire'].apply(lambda x: change_open_fire(x))"
   ]
  },
  {
   "cell_type": "code",
   "execution_count": 20,
   "id": "6e8ec67d",
   "metadata": {},
   "outputs": [],
   "source": [
    "def change_swimming_pool(x):\n",
    "    if x is True:\n",
    "        return 'yes'\n",
    "    else:\n",
    "        return 'no'"
   ]
  },
  {
   "cell_type": "code",
   "execution_count": 21,
   "id": "1bd9a36b",
   "metadata": {},
   "outputs": [],
   "source": [
    "df['swimming_pool'] = df['swimming_pool'].apply(lambda x: change_swimming_pool(x))"
   ]
  },
  {
   "cell_type": "code",
   "execution_count": 23,
   "id": "3f80b85d",
   "metadata": {},
   "outputs": [],
   "source": [
    "def none_zero(x):\n",
    "    if x == 0:\n",
    "        return 'no'\n",
    "    elif x == 1:\n",
    "        return 'yes'"
   ]
  },
  {
   "cell_type": "code",
   "execution_count": 24,
   "id": "d6046856",
   "metadata": {},
   "outputs": [],
   "source": [
    "df['terrace'] = df['terrace'].apply(lambda x: none_zero(x))"
   ]
  },
  {
   "cell_type": "code",
   "execution_count": 25,
   "id": "fa050ffa",
   "metadata": {},
   "outputs": [],
   "source": [
    "df['garden'] = df['garden'].apply(lambda x: none_zero(x))"
   ]
  },
  {
   "cell_type": "code",
   "execution_count": 26,
   "id": "55c720e5",
   "metadata": {},
   "outputs": [
    {
     "name": "stdout",
     "output_type": "stream",
     "text": [
      "<class 'pandas.core.frame.DataFrame'>\n",
      "RangeIndex: 8356 entries, 0 to 8355\n",
      "Data columns (total 18 columns):\n",
      " #   Column                  Non-Null Count  Dtype  \n",
      "---  ------                  --------------  -----  \n",
      " 0   area                    8356 non-null   float64\n",
      " 1   price                   8356 non-null   object \n",
      " 2   state_of_building       6204 non-null   object \n",
      " 3   facades                 6666 non-null   float64\n",
      " 4   bedrooms                8292 non-null   float64\n",
      " 5   fully_equipped_kitchen  5939 non-null   object \n",
      " 6   furnished               8356 non-null   object \n",
      " 7   open_fire               703 non-null    float64\n",
      " 8   zip_code                8356 non-null   int64  \n",
      " 9   land_surface            8356 non-null   float64\n",
      " 10  terrace                 8356 non-null   object \n",
      " 11  terrace_surface         8356 non-null   int64  \n",
      " 12  swimming_pool           8356 non-null   object \n",
      " 13  type_property           8356 non-null   object \n",
      " 14  subtype_property        8356 non-null   object \n",
      " 15  garden                  8356 non-null   object \n",
      " 16  garden_surface          8356 non-null   int64  \n",
      " 17  open_fire_YN            8356 non-null   object \n",
      "dtypes: float64(5), int64(3), object(10)\n",
      "memory usage: 1.1+ MB\n"
     ]
    }
   ],
   "source": [
    "df.info()"
   ]
  },
  {
   "cell_type": "code",
   "execution_count": 29,
   "id": "8b39d3ef",
   "metadata": {},
   "outputs": [],
   "source": [
    "def float_to_int(x):\n",
    "    try:\n",
    "        return int(x)\n",
    "    except:\n",
    "        return x"
   ]
  },
  {
   "cell_type": "code",
   "execution_count": 30,
   "id": "5c5ee11d",
   "metadata": {},
   "outputs": [],
   "source": [
    "df['facades_int'] = df['facades'].apply(lambda x: float_to_int(x))"
   ]
  },
  {
   "cell_type": "code",
   "execution_count": 32,
   "id": "b9972a15",
   "metadata": {},
   "outputs": [],
   "source": [
    "df.to_csv('house_data_cleaned')"
   ]
  }
 ],
 "metadata": {
  "kernelspec": {
   "display_name": "Python 3",
   "language": "python",
   "name": "python3"
  },
  "language_info": {
   "codemirror_mode": {
    "name": "ipython",
    "version": 3
   },
   "file_extension": ".py",
   "mimetype": "text/x-python",
   "name": "python",
   "nbconvert_exporter": "python",
   "pygments_lexer": "ipython3",
   "version": "3.8.8"
  }
 },
 "nbformat": 4,
 "nbformat_minor": 5
}
